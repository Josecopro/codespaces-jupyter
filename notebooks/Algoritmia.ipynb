{
 "cells": [
  {
   "cell_type": "code",
   "execution_count": 2,
   "id": "3920c80d",
   "metadata": {},
   "outputs": [],
   "source": [
    "def suma(lista, idx = 0 , total = 0 ):\n",
    "    if idx == len(lista):\n",
    "        return total\n",
    "    \n",
    "    total += lista[idx]\n",
    "    return suma(lista, idx +1, total)\n",
    "\n"
   ]
  },
  {
   "cell_type": "code",
   "execution_count": 3,
   "id": "e4807212",
   "metadata": {},
   "outputs": [
    {
     "name": "stdout",
     "output_type": "stream",
     "text": [
      "21\n"
     ]
    }
   ],
   "source": [
    "print(suma([1,2,3,4,5,6]))"
   ]
  },
  {
   "cell_type": "code",
   "execution_count": 8,
   "id": "6c4c70d5",
   "metadata": {},
   "outputs": [],
   "source": [
    "def SumaCola(lista, idx = 0):\n",
    "    if idx == len(lista):\n",
    "        return 0 \n",
    "    return lista[idx] + SumaCola(lista, idx + 1)"
   ]
  },
  {
   "cell_type": "code",
   "execution_count": 9,
   "id": "56b862bb",
   "metadata": {},
   "outputs": [
    {
     "name": "stdout",
     "output_type": "stream",
     "text": [
      "6\n"
     ]
    }
   ],
   "source": [
    "print(SumaCola([1,2,3]))"
   ]
  },
  {
   "cell_type": "code",
   "execution_count": 16,
   "id": "4d829d4b",
   "metadata": {},
   "outputs": [],
   "source": [
    "def fibo(n):\n",
    "    if n < 2:\n",
    "        return n \n",
    "    return fibo(n - 1) + fibo(n - 2)\n"
   ]
  },
  {
   "cell_type": "code",
   "execution_count": 17,
   "id": "b4092637",
   "metadata": {},
   "outputs": [
    {
     "data": {
      "text/plain": [
       "8"
      ]
     },
     "execution_count": 17,
     "metadata": {},
     "output_type": "execute_result"
    }
   ],
   "source": [
    "fibo(6)"
   ]
  },
  {
   "cell_type": "code",
   "execution_count": null,
   "id": "acf5a2be",
   "metadata": {},
   "outputs": [],
   "source": [
    "def fiboCola(n,idx = 0, total = [1,1], even = True):\n",
    "    if idx == n:\n",
    "        return total\n",
    "    if even:\n",
    "        total[0] = total[0] + total[1]\n",
    "        return fiboCola(n, idx + 1, total, False)\n",
    "\n",
    "    else: \n",
    "        total[1] = total[0] + total[1]\n",
    "        return fiboCola(n, idx + 1, total, True)\n",
    "def solucionador7000(n):\n",
    "    solucion = fiboCola(n)\n",
    "    return abs(solucion[0] - solucion[1])\n",
    "\n",
    "    \n"
   ]
  },
  {
   "cell_type": "code",
   "execution_count": 6,
   "id": "c7f85ffd",
   "metadata": {},
   "outputs": [
    {
     "data": {
      "text/plain": [
       "36152345301669280731300803202871303490588303625922816070971515569801771103475932395906110342152062500693694640165978164441324496800551228422921973611569296424136382246046575614645400105592534522121793956894560542371440279617925064349804307908057270106160985260295653478429554682798096723452254128488431339748828112703654234075422778798981068563432181791582234731761586976238550184993945881776779421754537325428121413915511676215243011735690507315152996326061201367118634555482405588319109365761520894209238567299069391120485080697780141545564686123370536601298468428748283950559831882186287555052588165911939849690779469175226061204727430028265578070562384670331846991226672276721727964925813731865684817061571264419534890911072531342779783216363727201933620430289713513246925181181070773365790074526797205220972882281776760001595818057190832635176954561115454378302934994468252694966412999756474085336054539762642677325997822097064674423261753096005334084940150590757709655364051485790994277096477881971021098519714907954959884632374492045628400271388002344067454"
      ]
     },
     "execution_count": 6,
     "metadata": {},
     "output_type": "execute_result"
    }
   ],
   "source": [
    "solucionador7000(1000)\n"
   ]
  },
  {
   "cell_type": "code",
   "execution_count": null,
   "id": "366ebd3b",
   "metadata": {},
   "outputs": [],
   "source": [
    "def NotacionRara(str,idx = 0, total = 0, stack = []):\n",
    "    if str.isdigit():\n",
    "        stack.append(total)\n",
    "        \n",
    "    if len(stack) == 0:\n",
    "        return total\n",
    "    \n",
    "    if len(stack) == 2: \n",
    "        element = stack.pop()\n",
    "        if str[idx + 1] == \"+\":\n",
    "            stack[0] += element\n",
    "            total = stack[0]\n",
    "            return NotacionRara(str, idx + 1, total, stack )\n",
    "        elif str[idx + 1] == \"*\":\n",
    "            stack[0] *= element\n",
    "            total = stack[0]\n",
    "            return NotacionRara(str, idx + 1, total, stack )\n"
   ]
  },
  {
   "cell_type": "code",
   "execution_count": 57,
   "id": "e15ba12b",
   "metadata": {},
   "outputs": [
    {
     "data": {
      "text/plain": [
       "0"
      ]
     },
     "execution_count": 57,
     "metadata": {},
     "output_type": "execute_result"
    }
   ],
   "source": [
    "NotacionRara(\"34+2*\")"
   ]
  },
  {
   "cell_type": "code",
   "execution_count": 64,
   "id": "b935bcc8",
   "metadata": {},
   "outputs": [],
   "source": [
    "def BinarySearch(array: list[int], Target: int):\n",
    "    left = 0\n",
    "    right = len(array) - 1\n",
    "\n",
    "    mid = (left + right) // 2\n",
    "\n",
    "    while left <= right:\n",
    "        if array[mid] == Target:\n",
    "            return mid\n",
    "        \n",
    "        if array[mid] > Target:\n",
    "            right = mid - 1\n",
    "            print(mid)\n",
    "        else:\n",
    "            left = mid + 1\n",
    "            print(\"medio\", mid, \"derecha\", right, \"Izquierda\", left)\n",
    "\n",
    "        mid = (left + right) // 2 \n",
    "    return -1\n"
   ]
  },
  {
   "cell_type": "code",
   "execution_count": 69,
   "id": "7e0d4249",
   "metadata": {},
   "outputs": [
    {
     "name": "stdout",
     "output_type": "stream",
     "text": [
      "medio 3 derecha 6 Izquierda 4\n",
      "medio 5 derecha 6 Izquierda 6\n",
      "medio 6 derecha 6 Izquierda 7\n"
     ]
    },
    {
     "data": {
      "text/plain": [
       "-1"
      ]
     },
     "execution_count": 69,
     "metadata": {},
     "output_type": "execute_result"
    }
   ],
   "source": [
    "lista = [1,2,3,4,5,6, 7]\n",
    "BinarySearch(lista, 70) # 0"
   ]
  },
  {
   "cell_type": "code",
   "execution_count": null,
   "id": "cf23571c",
   "metadata": {},
   "outputs": [],
   "source": [
    "def MergeSort(Array: list[int]):\n",
    "\n",
    "    if len(Array) <= 1:\n",
    "        return Array\n",
    "\n",
    "    mid = len(Array) // 2\n",
    "    left = [Array[x] for x in range(mid)]\n",
    "    right = [Array[x] for x in range(mid, len(Array))]\n",
    "\n",
    "    leftarray = MergeSort(left)\n",
    "    rightarray = MergeSort(right)\n",
    "\n",
    "    Merged(leftarray, rightarray)"
   ]
  },
  {
   "cell_type": "code",
   "execution_count": null,
   "id": "cfeb1aa2",
   "metadata": {},
   "outputs": [],
   "source": [
    "def Order(leftSide, rightSide):\n",
    "    "
   ]
  },
  {
   "cell_type": "code",
   "execution_count": 43,
   "id": "3d51878d",
   "metadata": {},
   "outputs": [
    {
     "name": "stdout",
     "output_type": "stream",
     "text": [
      "[2, 4, 8, 500, 10]\n",
      "2\n",
      "[4, 8, 500, 10]\n",
      "4\n",
      "4\n"
     ]
    }
   ],
   "source": [
    "nums = [2,4,8,500,10]\n",
    "k = 2\n",
    "\n",
    "def findKthLargest(nums: list[int], k: int) -> int:\n",
    "    print(nums)\n",
    "    print(k)\n",
    "    if len(nums) == 1:\n",
    "        return nums[0]\n",
    "\n",
    "    left = nums\n",
    "    right = []\n",
    "    for i in range(len(nums)):\n",
    "        if len(nums) != len(left):\n",
    "            break\n",
    "        pivot = nums[i]\n",
    "        left = [x for x in nums if x >= pivot]\n",
    "        right = [x for x in nums if x < pivot]\n",
    "\n",
    "    if pivot == len(left):\n",
    "        print(left)\n",
    "        print(len(left))\n",
    "        return left[0]\n",
    "    if len(left) > k: \n",
    "        return findKthLargest(left, k - len(right))\n",
    "    \n",
    "    else:\n",
    "       return findKthLargest(right, k)\n",
    "\n",
    "\n",
    "\n",
    "print(findKthLargest(nums, k))\n",
    "\n",
    "\n",
    "\n",
    "    "
   ]
  },
  {
   "cell_type": "code",
   "execution_count": 40,
   "id": "22a89cd4",
   "metadata": {},
   "outputs": [
    {
     "name": "stdout",
     "output_type": "stream",
     "text": [
      "4\n",
      "[5, 6]\n",
      "[3, 2, 1]\n"
     ]
    }
   ],
   "source": [
    "nums = [3,2,1,5,6,4]\n",
    "\n",
    "\n",
    "pivot = nums[-1] \n",
    "left = [x for x in nums if x > pivot]\n",
    "right = [x for x in nums if x < pivot]\n",
    "\n",
    "\n",
    "print(pivot)\n",
    "print(left)\n",
    "print(right)\n",
    "\n"
   ]
  },
  {
   "cell_type": "code",
   "execution_count": 6,
   "id": "614c4015",
   "metadata": {},
   "outputs": [
    {
     "name": "stdout",
     "output_type": "stream",
     "text": [
      "[3]\n",
      "[2, 1]\n"
     ]
    }
   ],
   "source": [
    "newPivot = len(left) // 2\n",
    "\n",
    "newleft = [left[x] for x in range(newPivot)]\n",
    "newRight = [left[x] for x in range(newPivot, len(left))]\n",
    "\n",
    "print(newleft)\n",
    "print(newRight)"
   ]
  },
  {
   "cell_type": "code",
   "execution_count": 45,
   "id": "1273a903",
   "metadata": {},
   "outputs": [
    {
     "name": "stdout",
     "output_type": "stream",
     "text": [
      "8\n"
     ]
    }
   ],
   "source": [
    "nums = [2,4,8,5,10]\n",
    "k = 2\n",
    "\n",
    "def FindKLargest(nums: list[int], k: int) -> int:\n",
    "    if k < 1 or k > len(nums):\n",
    "        raise ValueError(\"Invalid k\")\n",
    "\n",
    "# Mi list comprehesion pero inplace (copia mala)\n",
    "    def partition(left: int, right: int) -> int:\n",
    "        pivot = nums[right]\n",
    "        i = left - 1\n",
    "        for j in range(left, right):\n",
    "            if nums[j] > pivot:\n",
    "                i += 1\n",
    "                nums[i], nums[j] = nums[j], nums[i]\n",
    "        nums[i + 1], nums[right] = nums[right], nums[i + 1]\n",
    "        return i + 1\n",
    "\n",
    "    left, right = 0, len(nums) - 1\n",
    "    while left <= right:\n",
    "        pivot_index = partition(left, right)\n",
    "        if pivot_index == k - 1:\n",
    "            return nums[pivot_index]\n",
    "        elif pivot_index < k - 1:\n",
    "            left = pivot_index + 1\n",
    "        else:\n",
    "            right = pivot_index - 1\n",
    "\n",
    "    return -1\n",
    "\n",
    "\n",
    "print(FindKLargest(nums, k))"
   ]
  },
  {
   "cell_type": "code",
   "execution_count": null,
   "id": "463f4b1c",
   "metadata": {},
   "outputs": [],
   "source": []
  },
  {
   "cell_type": "code",
   "execution_count": null,
   "id": "0e8c7fe7",
   "metadata": {},
   "outputs": [],
   "source": [
    "nums = [2,4,8,500,10]\n",
    "k = 2\n",
    "\n",
    "# Quickselect recursivo para k-ésimo mayor (k es 1-indexado)\n",
    "def FindKLargestRecursive(nums: list[int], k: int) -> int:\n",
    "    if k < 1 or k > len(nums):\n",
    "        raise ValueError(\"Invalid k\")\n",
    "\n",
    "    def partition(l: int, r: int) -> int:\n",
    "        pivot = nums[r]\n",
    "        i = l - 1\n",
    "        for j in range(l, r):\n",
    "            # Coloca valores mayores que el pivote a la izquierda\n",
    "            if nums[j] > pivot:\n",
    "                i += 1\n",
    "                nums[i], nums[j] = nums[j], nums[i]\n",
    "        nums[i + 1], nums[r] = nums[r], nums[i + 1]\n",
    "        return i + 1\n",
    "\n",
    "    def select(l: int, r: int, kth: int) -> int:\n",
    "        if l == r:\n",
    "            return nums[l]\n",
    "        p = partition(l, r)\n",
    "        rank = p - l + 1  # posición del pivote si el arreglo estuviera ordenado descendentemente\n",
    "        if rank == kth:\n",
    "            return nums[p]\n",
    "        elif kth < rank:\n",
    "            return select(l, p - 1, kth)\n",
    "        else:\n",
    "            return select(p + 1, r, kth - rank)\n",
    "\n",
    "    return select(0, len(nums) - 1, k)\n",
    "\n",
    "print(FindKLargestRecursive(nums, k))"
   ]
  },
  {
   "cell_type": "code",
   "execution_count": 1,
   "id": "273ad6e1",
   "metadata": {},
   "outputs": [],
   "source": [
    "def ElementoSolito(s):\n",
    "        elementos = dict()\n",
    "\n",
    "        for i, char in enumerate(s):\n",
    "            if char not in elementos:\n",
    "                elementos[char] = [1, i]\n",
    "            else:\n",
    "                elementos[char][0] += 1\n",
    "        for letter in elementos:\n",
    "            if letter.lower() in elementos and letter.capitalize() in elementos:\n",
    "                pass\n",
    "            else:\n",
    "                return elementos[letter]\n",
    "        return None\n",
    "\n",
    "\n",
    "def StringAgradable(s:str,ListaTotal:list = []):\n",
    "\n",
    "\n",
    "    IsGood = ElementoSolito(s)\n",
    "    if not IsGood:\n",
    "        return s\n",
    "    else:\n",
    "        idx = IsGood[1]\n",
    "        left = s[:idx]\n",
    "        right = s[idx+1:]\n",
    "        LeftResult = StringAgradable(left)\n",
    "        if LeftResult:\n",
    "            return LeftResult\n",
    "        RightResult = StringAgradable(right)\n",
    "        if RightResult:\n",
    "            return RightResult\n",
    "        return None\n"
   ]
  }
 ],
 "metadata": {
  "kernelspec": {
   "display_name": "Python 3",
   "language": "python",
   "name": "python3"
  },
  "language_info": {
   "codemirror_mode": {
    "name": "ipython",
    "version": 3
   },
   "file_extension": ".py",
   "mimetype": "text/x-python",
   "name": "python",
   "nbconvert_exporter": "python",
   "pygments_lexer": "ipython3",
   "version": "3.12.1"
  }
 },
 "nbformat": 4,
 "nbformat_minor": 5
}
