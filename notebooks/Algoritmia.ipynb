{
 "cells": [
  {
   "cell_type": "code",
   "execution_count": 2,
   "id": "3920c80d",
   "metadata": {},
   "outputs": [],
   "source": [
    "def suma(lista, idx = 0 , total = 0 ):\n",
    "    if idx == len(lista):\n",
    "        return total\n",
    "    \n",
    "    total += lista[idx]\n",
    "    return suma(lista, idx +1, total)\n",
    "\n"
   ]
  },
  {
   "cell_type": "code",
   "execution_count": 3,
   "id": "e4807212",
   "metadata": {},
   "outputs": [
    {
     "name": "stdout",
     "output_type": "stream",
     "text": [
      "21\n"
     ]
    }
   ],
   "source": [
    "print(suma([1,2,3,4,5,6]))"
   ]
  },
  {
   "cell_type": "code",
   "execution_count": 8,
   "id": "6c4c70d5",
   "metadata": {},
   "outputs": [],
   "source": [
    "def SumaCola(lista, idx = 0):\n",
    "    if idx == len(lista):\n",
    "        return 0 \n",
    "    return lista[idx] + SumaCola(lista, idx + 1)"
   ]
  },
  {
   "cell_type": "code",
   "execution_count": 9,
   "id": "56b862bb",
   "metadata": {},
   "outputs": [
    {
     "name": "stdout",
     "output_type": "stream",
     "text": [
      "6\n"
     ]
    }
   ],
   "source": [
    "print(SumaCola([1,2,3]))"
   ]
  },
  {
   "cell_type": "code",
   "execution_count": 16,
   "id": "4d829d4b",
   "metadata": {},
   "outputs": [],
   "source": [
    "def fibo(n):\n",
    "    if n < 2:\n",
    "        return n \n",
    "    return fibo(n - 1) + fibo(n - 2)\n"
   ]
  },
  {
   "cell_type": "code",
   "execution_count": 17,
   "id": "b4092637",
   "metadata": {},
   "outputs": [
    {
     "data": {
      "text/plain": [
       "8"
      ]
     },
     "execution_count": 17,
     "metadata": {},
     "output_type": "execute_result"
    }
   ],
   "source": [
    "fibo(6)"
   ]
  },
  {
   "cell_type": "code",
   "execution_count": 49,
   "id": "acf5a2be",
   "metadata": {},
   "outputs": [],
   "source": [
    "def fiboCola(n,idx = 0, total = [1,1], even = True):\n",
    "    if idx == n:\n",
    "        return total\n",
    "    if even:\n",
    "        total[0] = total[0] + total[1]\n",
    "        return fiboCola(n, idx + 1, total, False)\n",
    "\n",
    "    else: \n",
    "        total[1] = total[0] + total[1]\n",
    "        return fiboCola(n, idx + 1, total, True)\n",
    "def solucionador7000(n):\n",
    "    solucion = fiboCola(n)\n",
    "    return abs(solucion[0] - solucion[1])\n"
   ]
  },
  {
   "cell_type": "code",
   "execution_count": 50,
   "id": "c7f85ffd",
   "metadata": {},
   "outputs": [
    {
     "data": {
      "text/plain": [
       "5"
      ]
     },
     "execution_count": 50,
     "metadata": {},
     "output_type": "execute_result"
    }
   ],
   "source": [
    "solucionador7000(5)\n"
   ]
  },
  {
   "cell_type": "code",
   "execution_count": null,
   "id": "366ebd3b",
   "metadata": {},
   "outputs": [],
   "source": [
    "def NotacionRara(str,idx = 0, total = 0, stack = []):\n",
    "    if str.isdigit():\n",
    "        stack.append(total)\n",
    "        \n",
    "    if len(stack) == 0:\n",
    "        return total\n",
    "    \n",
    "    if len(stack) == 2: \n",
    "        element = stack.pop()\n",
    "        if str[idx + 1] == \"+\":\n",
    "            stack[0] += element\n",
    "            total = stack[0]\n",
    "            return NotacionRara(str, idx + 1, total, stack )\n",
    "        elif str[idx + 1] == \"*\":\n",
    "            stack[0] *= element\n",
    "            total = stack[0]\n",
    "            return NotacionRara(str, idx + 1, total, stack )\n"
   ]
  },
  {
   "cell_type": "code",
   "execution_count": 57,
   "id": "e15ba12b",
   "metadata": {},
   "outputs": [
    {
     "data": {
      "text/plain": [
       "0"
      ]
     },
     "execution_count": 57,
     "metadata": {},
     "output_type": "execute_result"
    }
   ],
   "source": [
    "NotacionRara(\"34+2*\")"
   ]
  },
  {
   "cell_type": "code",
   "execution_count": 64,
   "id": "b935bcc8",
   "metadata": {},
   "outputs": [],
   "source": [
    "def BinarySearch(array: list[int], Target: int):\n",
    "    left = 0\n",
    "    right = len(array) - 1\n",
    "\n",
    "    mid = (left + right) // 2\n",
    "\n",
    "    while left <= right:\n",
    "        if array[mid] == Target:\n",
    "            return mid\n",
    "        \n",
    "        if array[mid] > Target:\n",
    "            right = mid - 1\n",
    "            print(mid)\n",
    "        else:\n",
    "            left = mid + 1\n",
    "            print(\"medio\", mid, \"derecha\", right, \"Izquierda\", left)\n",
    "\n",
    "        mid = (left + right) // 2 \n",
    "    return -1\n"
   ]
  },
  {
   "cell_type": "code",
   "execution_count": 69,
   "id": "7e0d4249",
   "metadata": {},
   "outputs": [
    {
     "name": "stdout",
     "output_type": "stream",
     "text": [
      "medio 3 derecha 6 Izquierda 4\n",
      "medio 5 derecha 6 Izquierda 6\n",
      "medio 6 derecha 6 Izquierda 7\n"
     ]
    },
    {
     "data": {
      "text/plain": [
       "-1"
      ]
     },
     "execution_count": 69,
     "metadata": {},
     "output_type": "execute_result"
    }
   ],
   "source": [
    "lista = [1,2,3,4,5,6, 7]\n",
    "BinarySearch(lista, 70) # 0"
   ]
  },
  {
   "cell_type": "code",
   "execution_count": null,
   "id": "cf23571c",
   "metadata": {},
   "outputs": [],
   "source": [
    "def MergeSort(Array: list[int])"
   ]
  }
 ],
 "metadata": {
  "kernelspec": {
   "display_name": "Python 3",
   "language": "python",
   "name": "python3"
  },
  "language_info": {
   "codemirror_mode": {
    "name": "ipython",
    "version": 3
   },
   "file_extension": ".py",
   "mimetype": "text/x-python",
   "name": "python",
   "nbconvert_exporter": "python",
   "pygments_lexer": "ipython3",
   "version": "3.12.1"
  }
 },
 "nbformat": 4,
 "nbformat_minor": 5
}
