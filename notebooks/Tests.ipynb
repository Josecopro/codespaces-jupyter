{
 "cells": [
  {
   "cell_type": "code",
   "execution_count": 31,
   "metadata": {},
   "outputs": [],
   "source": [
    "# Make a class wich had a list of lists as an attribute, and a method that deletes the older elements of the list when it gets new ones\n",
    "\n",
    "class ListOfLists:\n",
    "    def __init__(self, list_of_lists):\n",
    "        self.list_of_lists = list_of_lists\n",
    "\n",
    "    def add_list(self, new_list):\n",
    "        self.list_of_lists.append(new_list)\n",
    "        self.list_of_lists = self.list_of_lists[-1:]\n",
    "\n",
    "    def __str__(self):\n",
    "        return str(self.list_of_lists)\n",
    "\n",
    "lol = ListOfLists([[1, 2, 3], [4, 5, 6], [7, 8, 9]])\n",
    "\n",
    "\n"
   ]
  },
  {
   "cell_type": "code",
   "execution_count": 32,
   "metadata": {},
   "outputs": [
    {
     "name": "stdout",
     "output_type": "stream",
     "text": [
      "[[10, 11, 12]]\n"
     ]
    }
   ],
   "source": [
    "lol.add_list([10, 11, 12])\n",
    "print(lol)"
   ]
  }
 ],
 "metadata": {
  "kernelspec": {
   "display_name": "base",
   "language": "python",
   "name": "python3"
  },
  "language_info": {
   "codemirror_mode": {
    "name": "ipython",
    "version": 3
   },
   "file_extension": ".py",
   "mimetype": "text/x-python",
   "name": "python",
   "nbconvert_exporter": "python",
   "pygments_lexer": "ipython3",
   "version": "3.12.2"
  }
 },
 "nbformat": 4,
 "nbformat_minor": 2
}
