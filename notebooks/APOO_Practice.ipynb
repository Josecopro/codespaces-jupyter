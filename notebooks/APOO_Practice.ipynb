{
 "cells": [
  {
   "cell_type": "markdown",
   "metadata": {},
   "source": [
    "1. **Sistema de Inventario:**\n",
    "   - **Enunciado:** Crea una `dataclass` llamada `Articulo` que represente un artículo en un inventario. La clase debe tener los siguientes atributos:\n",
    "     - `codigo`: Código único del artículo (cadena de texto).\n",
    "     - `nombre`: Nombre del artículo (cadena de texto).\n",
    "     - `precio`: Precio del artículo en la moneda local (número flotante).\n",
    "     - `stock`: Cantidad disponible en stock (número entero).\n",
    "   - Implementa los siguientes **dunder methods**:\n",
    "     - `__str__` para mostrar los detalles del artículo.\n",
    "     - `__eq__` para comparar dos artículos basados en el `codigo`."
   ]
  },
  {
   "cell_type": "code",
   "execution_count": 14,
   "metadata": {},
   "outputs": [],
   "source": [
    "class Articulo:\n",
    "    def __init__(self , codigo, nombre, precio, stock):\n",
    "        self.codigo = codigo\n",
    "        self.nombre = nombre\n",
    "        self.precio = precio\n",
    "        self.stock = stock\n",
    "    def __str__(self):\n",
    "        return f\"codigo: {self.codigo} -  Nombre:  {self.nombre}  - Precio:  {self.precio}  - Stock: {self.stock}\"\n",
    "        \n",
    "    def __eq__(self, other):\n",
    "        if self.codigo == other.codigo:\n",
    "            return True\n",
    "        return False"
   ]
  },
  {
   "cell_type": "code",
   "execution_count": 16,
   "metadata": {},
   "outputs": [
    {
     "name": "stdout",
     "output_type": "stream",
     "text": [
      "True\n"
     ]
    }
   ],
   "source": [
    "quesito = Articulo(1, \"queso\", 2.5, 10)\n",
    "manzana = Articulo(2, \"manzana\", 1.5, 20)\n",
    "pera = Articulo(3, \"pera\", 2.0, 15)\n",
    "\n",
    "print(quesito == manzana)"
   ]
  },
  {
   "cell_type": "markdown",
   "metadata": {},
   "source": [
    "2. **Registro de Eventos:**\n",
    "   - **Enunciado:** Diseña una `dataclass` llamada `Evento` para representar eventos en un calendario. La clase debe tener los siguientes atributos:\n",
    "     - `titulo`: Título del evento (cadena de texto).\n",
    "     - `fecha`: Fecha del evento en formato `YYYY-MM-DD` (cadena de texto).\n",
    "     - `ubicacion`: Ubicación del evento (cadena de texto).\n",
    "   - Implementa los siguientes **dunder methods**:\n",
    "     - `__str__` para mostrar la descripción del evento.\n",
    "     - `__eq__` para comparar dos eventos por su `titulo` y `fecha`."
   ]
  },
  {
   "cell_type": "code",
   "execution_count": 19,
   "metadata": {},
   "outputs": [],
   "source": [
    "class Evento: \n",
    "    def __init__(self, titulo, fecha, ubicacion):\n",
    "        self.titulo = titulo\n",
    "        self.fecha = fecha\n",
    "        self.ubicacion = ubicacion\n",
    "    def __str__(self):\n",
    "        return F\"Titulo: {self.titulo} - Fecha: {self.fecha} - Ubicacion: {self.ubicacion}\"\n",
    "    def __eq__(self, other):\n",
    "        if (self.titulo == other.titulo) and (self.fecha == other.fecha):\n",
    "            return True\n",
    "        return False        "
   ]
  },
  {
   "cell_type": "code",
   "execution_count": 21,
   "metadata": {},
   "outputs": [
    {
     "name": "stdout",
     "output_type": "stream",
     "text": [
      "True\n",
      "Titulo: casarme - Fecha: 12/12/2022 - Ubicacion: Iglesia\n"
     ]
    }
   ],
   "source": [
    "casarme = Evento(\"casarme\", \"12/12/2022\", \"Iglesia\")\n",
    "cumple = Evento(\"cumple\", \"12/12/2022\", \"Iglesia\")\n",
    "casarmeconmosa = Evento(\"casarme\", \"12/12/2022\", \"Iglesia\")\n",
    "print(casarme == casarmeconmosa)\n",
    "print(casarme)"
   ]
  },
  {
   "cell_type": "markdown",
   "metadata": {},
   "source": [
    "3. **Perfil de Usuario:**\n",
    "   - **Enunciado:** Implementa una `dataclass` llamada `Usuario` para almacenar la información de un usuario. La clase debe tener los siguientes atributos:\n",
    "     - `nombre`: Nombre del usuario (cadena de texto).\n",
    "     - `email`: Correo electrónico del usuario (cadena de texto).\n",
    "     - `activo`: Estado de la cuenta (booleano).\n",
    "   - Usa el parámetro `frozen=True` para hacer que la clase sea inmutable. Implementa los siguientes **dunder methods**:\n",
    "     - `__str__` para mostrar la información del usuario.\n",
    "     - `__eq__` para comparar dos usuarios basados en su `email`.\n"
   ]
  },
  {
   "cell_type": "code",
   "execution_count": null,
   "metadata": {},
   "outputs": [],
   "source": [
    "class Usuario: \n",
    "    def __init__(self, nombre, email, activo):\n",
    "        self.nombre = nombre\n",
    "        self.email = email\n",
    "        self.activo = activo\n",
    "\n",
    "    def __str__(self):\n",
    "        return F\"Nombre: {self.nombre} - Email: {self.email} - Activo: {self.activo}\"\n",
    "    \n",
    "    def __eq__(self, other):\n",
    "        if self.email == other.email:\n",
    "            return True\n",
    "        return False"
   ]
  },
  {
   "cell_type": "code",
   "execution_count": null,
   "metadata": {},
   "outputs": [],
   "source": [
    "maydaylopera = Usuario(\"maydaylopera\", \"Maydaylopera@gmail.com\", True)\n",
    "\n",
    "alejandrobb195 = Usuario(\"alejandrobb195\", \"Alejandrobb195@gmail.com\", True)\n",
    "\n",
    "juanbece2006 = Usuario(\"juanbece2006\", \"Juanbece@gmail.com\", True)\n",
    "\n",
    "\n"
   ]
  },
  {
   "cell_type": "markdown",
   "metadata": {},
   "source": [
    "4. **Rango de Fechas:**\n",
    "   - **Enunciado:** Crea una `dataclass` llamada `RangoFechas` que represente un rango de fechas. La clase debe tener los siguientes atributos:\n",
    "     - `fecha_inicio`: Fecha de inicio en formato `YYYY-MM-DD` (cadena de texto).\n",
    "     - `fecha_fin`: Fecha de fin en formato `YYYY-MM-DD` (cadena de texto).\n",
    "   - Implementa los siguientes **dunder methods**:\n",
    "     - `__str__` para mostrar el rango de fechas en el formato `\"Fecha Inicio - Fecha Fin\"`.\n",
    "     - `__len__` para devolver el número total de días en el rango."
   ]
  },
  {
   "cell_type": "code",
   "execution_count": 50,
   "metadata": {},
   "outputs": [],
   "source": [
    "class RangoFechas:\n",
    "    def __init__(self, fecha_inicio, fecha_fin):\n",
    "        self.fecha_inicio = fecha_inicio\n",
    "        self.fecha_fin = fecha_fin\n",
    "\n",
    "    def __str__(self):\n",
    "        return F\"Fecha Inicio: {self.fecha_inicio} - Fecha Fin: {self.fecha_fin}\"\n",
    "    \n",
    "    def __len__(self):\n",
    "        self.fecha_inicio = self.fecha_inicio.split(\"-\")\n",
    "        self.fecha_fin = self.fecha_fin.split(\"-\")\n",
    "        days = int(self.fecha_fin[2]) - int(self.fecha_inicio[2])\n",
    "        if int(self.fecha_fin[1]) > int(self.fecha_inicio[1]):\n",
    "            days += 30*(int(self.fecha_fin[1]) - int(self.fecha_inicio[1]))\n",
    "        else: \n",
    "            days += (int(self.fecha_fin[1]) - int(self.fecha_inicio[1]))*30\n",
    "        if int(self.fecha_fin[0]) > int(self.fecha_inicio[0]):\n",
    "            days += 365 * (int(self.fecha_fin[0]) - int(self.fecha_inicio[0]))\n",
    "\n",
    "        return days\n",
    "        "
   ]
  },
  {
   "cell_type": "code",
   "execution_count": 51,
   "metadata": {},
   "outputs": [
    {
     "data": {
      "text/plain": [
       "139"
      ]
     },
     "execution_count": 51,
     "metadata": {},
     "output_type": "execute_result"
    }
   ],
   "source": [
    "cumpleaños = RangoFechas(\"2024-08-04\",\"2024-12-23\")\n",
    "\n",
    "len(cumpleaños)"
   ]
  },
  {
   "cell_type": "markdown",
   "metadata": {},
   "source": [
    "5. **Resultado de Prueba:**\n",
    "   - **Enunciado:** Diseña una `dataclass` llamada `ResultadoPrueba` para almacenar los resultados de una prueba. La clase debe tener los siguientes atributos:\n",
    "     - `estudiante`: Nombre del estudiante (cadena de texto).\n",
    "     - `materia`: Materia de la prueba (cadena de texto).\n",
    "     - `calificacion`: Calificación obtenida en la prueba (número flotante).\n",
    "   - Implementa los siguientes **dunder methods**:\n",
    "     - `__str__` para mostrar los detalles del resultado.\n",
    "     - `__eq__` para comparar dos resultados basados en el `estudiante` y `materia`.\n",
    "     - `es_aprobado()` para devolver `True` si la calificación es mayor o igual a 6.0, y `False` en caso contrario."
   ]
  },
  {
   "cell_type": "code",
   "execution_count": 53,
   "metadata": {},
   "outputs": [],
   "source": [
    "class ResultadoPrueba:\n",
    "    \n",
    "    def __init__(self,estudiante, materia, calificacion):\n",
    "        self.estudiante = estudiante\n",
    "        self.materia = materia\n",
    "        self.calificacion = calificacion\n",
    "\n",
    "    def __str__(self):\n",
    "        return F\"Estudiante: {self.estudiante} - Materia: {self.materia} - Calificacion: {self.calificacion}\"\n",
    "\n",
    "    def __eq__(self, other):\n",
    "        return (self.materia == other.materia) and (self.estudiante == other.estudiante)\n",
    "\n",
    "    def es_aprobado(self):\n",
    "        return self.calificacion >= 6.0\n"
   ]
  },
  {
   "cell_type": "code",
   "execution_count": 58,
   "metadata": {},
   "outputs": [
    {
     "name": "stdout",
     "output_type": "stream",
     "text": [
      "Estudiante: Mayday - Materia: Matematicas - Calificacion: 5.0\n"
     ]
    },
    {
     "data": {
      "text/plain": [
       "False"
      ]
     },
     "execution_count": 58,
     "metadata": {},
     "output_type": "execute_result"
    }
   ],
   "source": [
    "estudiante1 = ResultadoPrueba(\"Mayday\", \"Matematicas\", 5.0)\n",
    "estudiante2 = ResultadoPrueba(\"Mayday\", \"Matematicas\", 5.0)\n",
    "estudiante3 = ResultadoPrueba(\"Mayday\", \"ciencias\", 7.0)\n",
    "\n",
    "estudiante1 == estudiante3\n",
    "\n",
    "print(estudiante1)\n",
    "\n",
    "estudiante3.es_aprobado()\n",
    "estudiante2.es_aprobado()"
   ]
  },
  {
   "cell_type": "markdown",
   "metadata": {},
   "source": [
    "4. **Rango de Fechas con tipo de dato DATE:** \n",
    "   - **Enunciado:** Crea una `dataclass` llamada `RangoFechas` que represente un rango de fechas. La clase debe tener los siguientes atributos:\n",
    "     - `fecha_inicio`: Fecha de inicio en formato `YYYY-MM-DD` (cadena de texto).\n",
    "     - `fecha_fin`: Fecha de fin en formato `YYYY-MM-DD` (cadena de texto).\n",
    "   - Implementa los siguientes **dunder methods**:\n",
    "     - `__str__` para mostrar el rango de fechas en el formato `\"Fecha Inicio - Fecha Fin\"`.\n",
    "     - `__len__` para devolver el número total de días en el rango."
   ]
  },
  {
   "cell_type": "markdown",
   "metadata": {},
   "source": [
    "### Reto 4: Sistema de Gestión de Empleados y Proyectos (0,4)\n",
    "**Descripción:**\n",
    "Diseña un sistema que permita gestionar empleados y los proyectos en los que están involucrados. Debes definir dos clases principales: `Empleado` y `Proyecto`.\n",
    "\n",
    "#### Clase `Empleado`:\n",
    "- `nombre`: nombre del empleado.\n",
    "- `puesto`: el cargo o puesto que desempeña el empleado.\n",
    "- `salario`: el salario base del empleado.\n",
    "- `proyectos`: una lista de instancias de la clase `Proyecto` en las que el empleado está participando.\n",
    "\n",
    "#### Clase `Proyecto`:\n",
    "- `nombre`: nombre del proyecto.\n",
    "- `horas_requeridas`: horas requeridas para completar el proyecto.\n",
    "- `horas_trabajadas`: horas ya trabajadas por los empleados en este proyecto.\n",
    "\n",
    "Funciones requeridas:\n",
    "1. Implementar en la clase `Empleado` el método `__str__` para mostrar el nombre, el puesto y el total de proyectos en los que está participando.\n",
    "2. Crear una propiedad en la clase `Empleado` llamada `salario_total`, que calcule el salario base más un bono basado en la cantidad de proyectos en los que el empleado está trabajando.\n",
    "3. Implementar un método especial `__add__` en la clase `Empleado` para permitir sumar dos empleados y generar un nuevo empleado que combine los proyectos de ambos y promedie los salarios.\n",
    "4. En la clase `Proyecto`, implementar una propiedad `completado` que devuelva `True` si las horas trabajadas son mayores o iguales a las horas requeridas, y evitar que esta propiedad pueda ser alterada directamente.\n",
    "5. Implementar el método especial `__iadd__` en la clase `Proyecto` para aumentar las horas trabajadas.\n",
    "\n",
    "**Objetivos:**\n",
    "- Gestionar empleados y sus proyectos con relaciones entre ambas clases.\n",
    "- Calcular el salario total de un empleado con bonificaciones por proyecto.\n",
    "- Combinar dos empleados utilizando la sobrecarga de operadores.\n",
    "- Validar si un proyecto ha sido completado usando `properties` y métodos especiales."
   ]
  },
  {
   "cell_type": "code",
   "execution_count": 49,
   "metadata": {},
   "outputs": [],
   "source": [
    "class Empleado: \n",
    "    def __init__(self, nombre,puesto, salario, proyectos):\n",
    "        self.nombre = nombre\n",
    "        self.puesto = puesto\n",
    "        self.salario = salario\n",
    "        self.proyectos = proyectos\n",
    "    def __str__(self):\n",
    "        return F\"Nombre: {self.nombre} - Puesto: {self.puesto} - Proyectos: {self.proyectos}\"\n",
    "    \n",
    "    def SalarioTotal(self):\n",
    "        return self.salario * len(self.proyectos)\n",
    "    \n",
    "    def __add__(self, other):\n",
    "        self.proyectos.append(other.proyectos)\n",
    "        self.salario = ((self.salario + other.salario)*len(self.proyectos))/2\n",
    "        return F\"Nombre: {self.nombre} - Puesto: {self.puesto} - Salario {self.salario} - Proyectos: {self.proyectos}\"\n",
    "\n",
    "class Proyecto:\n",
    "    def __init__(self, Nombre, HorasRequeridas, HorasTrabajadas):\n",
    "        self.nombre = Nombre\n",
    "        self.HorasRequeridas = HorasRequeridas\n",
    "        self.HorasTrabajadas = HorasTrabajadas\n",
    "\n",
    "    def __repr__(self):\n",
    "        return F\"Nombre: {self.nombre} - Horas Requeridas: {self.HorasRequeridas} - Horas Trabajadas: {self.HorasTrabajadas}\"\n",
    "    @property\n",
    "    def Completado(self):\n",
    "        return self.HorasRequeridas <= self.HorasTrabajadas\n",
    "    \n",
    "    @Completado.setter\n",
    "    def Completado(self, value):\n",
    "        if value:\n",
    "            self.HorasTrabajadas == self.HorasRequeridas\n",
    "        else:\n",
    "            return self.HorasTrabajadas\n",
    "\n",
    "\n",
    "    def __iadd__(self, other):\n",
    "        self.HorasTrabajadas += other\n",
    "        return self\n",
    "    \n"
   ]
  },
  {
   "cell_type": "code",
   "execution_count": 52,
   "metadata": {},
   "outputs": [
    {
     "name": "stdout",
     "output_type": "stream",
     "text": [
      "Nombre: Juanito - Puesto: Programador - Salario 4500.0 - Proyectos: [Nombre: Proyecto1 - Horas Requeridas: 200 - Horas Trabajadas: 100, Nombre: Proyecto2 - Horas Requeridas: 120 - Horas Trabajadas: 100, [Nombre: Proyecto2 - Horas Requeridas: 120 - Horas Trabajadas: 100, Nombre: Proyecto2 - Horas Requeridas: 120 - Horas Trabajadas: 400]]\n",
      "<class '__main__.Proyecto'>\n",
      "Nombre: Proyecto1 - Horas Requeridas: 200 - Horas Trabajadas: 200\n"
     ]
    }
   ],
   "source": [
    "proyecto1 = Proyecto(\"Proyecto1\", 200, 100)\n",
    "proyecto2 = Proyecto(\"Proyecto2\", 120, 100)\n",
    "proyecto3 = Proyecto(\"Proyecto2\", 120, 100)\n",
    "proyecto4 = Proyecto(\"Proyecto2\", 120, 400)\n",
    "\n",
    "juanito = Empleado(\"Juanito\", \"Programador\", 1000, [proyecto1, proyecto2])\n",
    "\n",
    "alejandrito = Empleado(\"Alejandrito\", \"Programador\", 2000, [proyecto3, proyecto4])\n",
    "\n",
    "juanito.SalarioTotal()\n",
    "\n",
    "peranito = juanito + alejandrito\n",
    "print(peranito)\n",
    "print(type(proyecto1))\n",
    "proyecto1 += 100\n",
    "print(proyecto1)\n"
   ]
  },
  {
   "cell_type": "markdown",
   "metadata": {},
   "source": [
    "### Reto 5: Sistema de Gestión de Vehículos y Rutas (0,4)\n",
    "**Descripción:**\n",
    "Diseña un sistema para gestionar vehículos y las rutas que estos recorren. Debes definir dos clases principales: `Vehiculo` y `Ruta`.\n",
    "\n",
    "#### Clase `Vehiculo`:\n",
    "- `matricula`: la matrícula del vehículo.\n",
    "- `marca`: la marca del vehículo.\n",
    "- `capacidad`: capacidad máxima de pasajeros.\n",
    "- `rutas`: lista de instancias de la clase `Ruta` que el vehículo ha recorrido.\n",
    "\n",
    "#### Clase `Ruta`:\n",
    "- `origen`: ciudad de origen de la ruta.\n",
    "- `destino`: ciudad de destino de la ruta.\n",
    "- `distancia`: distancia en kilómetros de la ruta.\n",
    "- `vehiculo`: el vehículo que realiza la ruta (instancia de `Vehiculo`).\n",
    "\n",
    "Funciones requeridas:\n",
    "1. Implementar el método `__repr__` en ambas clases para que la información del vehículo y la ruta se pueda representar de manera clara.\n",
    "2. En la clase `Vehiculo`, crear una propiedad `total_kilometros` que calcule la suma de todas las distancias de las rutas asociadas al vehículo.\n",
    "3. Implementar el método especial `__eq__` en la clase `Vehiculo` para permitir comparar dos vehículos por su matrícula.\n",
    "4. Implementar el método `__contains__` en la clase `Vehiculo` para verificar si una determinada ruta ha sido recorrida por el vehículo.\n",
    "5. En la clase `Ruta`, implementar el método especial `__mul__` para duplicar la distancia de la ruta (por ejemplo, si una ruta es de ida y vuelta).\n",
    "\n",
    "**Objetivos:**\n",
    "- Gestionar la relación entre vehículos y rutas, utilizando `dataclasses` para definir las propiedades y métodos de cada clase.\n",
    "- Implementar validaciones y cálculos automáticos como el total de kilómetros recorridos por un vehículo.\n",
    "- Comparar vehículos y realizar operaciones con rutas mediante la sobrecarga de operadores y métodos especiales.\n"
   ]
  },
  {
   "cell_type": "code",
   "execution_count": 14,
   "metadata": {},
   "outputs": [],
   "source": [
    "from typing import List\n",
    "from dataclasses import dataclass\n",
    "\n",
    "@dataclass\n",
    "class Ruta:\n",
    "    Origen: str\n",
    "    Destino: str\n",
    "    Distancia: int\n",
    "    vehiculo: str\n",
    "    \n",
    "    def __repr__(self):\n",
    "        return F\"Origen: {self.Origen} - Destino: {self.Destino} - Distancia: {self.Distancia} - Vehiculo: {self.vehiculo}\"\n",
    "    \n",
    "    def __mul__(self, mult):\n",
    "        self.Distancia *= mult\n",
    "        return self\n",
    "\n",
    "@dataclass\n",
    "class Vehiculo: \n",
    "    Matricula: str\n",
    "    Marca: str\n",
    "    Capacidad: int\n",
    "    rutas: List[Ruta]\n",
    "\n",
    "    def __repr__(self):\n",
    "        return F\"Matricula: {self.Matricula} - Marca: {self.Marca} - Capacidad: {self.Capacidad} - Rutas: {self.rutas}\"\n",
    "\n",
    "    def total_kilometros(self):\n",
    "        total = 0\n",
    "        for ruta in self.rutas:\n",
    "            total += ruta.Distancia\n",
    "        return total \n",
    "\n",
    "    def __eq__(self, other):\n",
    "        return self.Matricula == other.Matricula\n",
    "\n",
    "    def __contains__(self, item: Ruta):\n",
    "        return item in self.rutas\n",
    "        \n",
    "\n",
    "\n"
   ]
  },
  {
   "cell_type": "code",
   "execution_count": 15,
   "metadata": {},
   "outputs": [
    {
     "name": "stdout",
     "output_type": "stream",
     "text": [
      "True\n",
      "False\n"
     ]
    },
    {
     "data": {
      "text/plain": [
       "Origen: Cancun - Destino: Merida - Distancia: 600 - Vehiculo: 1234"
      ]
     },
     "execution_count": 15,
     "metadata": {},
     "output_type": "execute_result"
    }
   ],
   "source": [
    "ruta1 = Ruta(\"Cancun\", \"Merida\", 300, \"1234\")\n",
    "ruta3 = Ruta(\"Medelli\", \"Bogota\", 456, \"1234\")\n",
    "\n",
    "ruta7 = Ruta(\"Medelli\", \"Bogota\", 456, \"1234\")\n",
    "\n",
    "Vehiculo1 = Vehiculo(\"1234\", \"Nissan\", 5, [ruta1, ruta7])\n",
    "vehiculo2 = Vehiculo(\"1234\", \"Nissan\", 5, [ruta3, ruta7])\n",
    "Vehiculo1.total_kilometros()\n",
    "print(Vehiculo1 == vehiculo2)\n",
    "print(ruta1 in vehiculo2)\n",
    "oal = ruta1 * 2\n",
    "oal"
   ]
  },
  {
   "cell_type": "markdown",
   "metadata": {},
   "source": [
    "# **Reto 1: Procesamiento de Listas** - (0,05)\n",
    "\n",
    "**Enunciado:**\n",
    "\n",
    "Dado el siguiente código que define una función para procesar una lista de números enteros, añade las anotaciones de tipo adecuadas para la función `process_numbers`.\n",
    "\n",
    "```python\n",
    "def process_numbers(numbers):\n",
    "    if not numbers:\n",
    "        return None\n",
    "    total = sum(numbers)\n",
    "    count = len(numbers)\n",
    "    average = total / count\n",
    "    return {\"total\": total, \"average\": average}\n",
    "\n",
    "# Ejemplo de uso\n",
    "result = process_numbers([10, 20, 30, 40])\n",
    "print(result)\n",
    "```\n",
    "\n",
    "**Requisitos:**\n",
    "- La función `process_numbers` toma un parámetro `numbers` que es una lista de enteros.\n",
    "- La función devuelve un diccionario con claves de tipo `str` y valores que pueden ser `int` o `float`."
   ]
  },
  {
   "cell_type": "code",
   "execution_count": 19,
   "metadata": {},
   "outputs": [
    {
     "name": "stdout",
     "output_type": "stream",
     "text": [
      "{'total': 100, 'average': 25.0}\n"
     ]
    }
   ],
   "source": [
    "from typing import List, Dict, Union\n",
    "def process_numbers(numbers: list) -> Dict[str, Union[float, int]]:\n",
    "    if not numbers:\n",
    "        return None\n",
    "    total: float = sum(numbers)\n",
    "    count: int = len(numbers)\n",
    "    average: float = total / count\n",
    "    return {\"total\": total, \"average\": average}\n",
    "\n",
    "# Ejemplo de uso\n",
    "result = process_numbers([10, 20, 30, 40])\n",
    "print(result)"
   ]
  },
  {
   "cell_type": "markdown",
   "metadata": {},
   "source": [
    "### **Reto 2: Información del Usuario** - (0,05)\n",
    "\n",
    "**Enunciado:**\n",
    "\n",
    "El siguiente código define una función para crear un perfil de usuario. Añade las anotaciones de tipo adecuadas para la función `create_user_profile`.\n",
    "\n",
    "```python\n",
    "def create_user_profile(name, age, email):\n",
    "    profile = {\n",
    "        \"name\": name,\n",
    "        \"age\": age,\n",
    "        \"email\": email\n",
    "    }\n",
    "    return profile\n",
    "\n",
    "# Ejemplo de uso\n",
    "profile = create_user_profile(\"Alice\", 30, \"alice@example.com\")\n",
    "print(profile)\n",
    "```\n",
    "\n",
    "**Requisitos:**\n",
    "- La función `create_user_profile` toma tres parámetros: `name` (cadena de texto), `age` (entero) y `email` (cadena de texto).\n",
    "- La función devuelve un diccionario con claves de tipo `str` y valores de tipo `str` o `int`.\n",
    "\n",
    "---"
   ]
  },
  {
   "cell_type": "code",
   "execution_count": 17,
   "metadata": {},
   "outputs": [
    {
     "name": "stdout",
     "output_type": "stream",
     "text": [
      "{'name': 'Alice', 'age': 30, 'email': 'alice@example.com'}\n"
     ]
    }
   ],
   "source": [
    "from typing import Dict, Union\n",
    "def create_user_profile(name: str, age: int, email:str) -> Dict[str, Union[str, int]]:\n",
    "    profile: dict = {\n",
    "        \"name\": name,\n",
    "        \"age\": age,\n",
    "        \"email\": email\n",
    "    }\n",
    "    return dict(profile)\n",
    "\n",
    "# Ejemplo de uso\n",
    "profile = create_user_profile(\"Alice\", 30, \"alice@example.com\")\n",
    "print(profile)"
   ]
  },
  {
   "cell_type": "markdown",
   "metadata": {},
   "source": [
    "### **Reto 3: Calculadora de Precios** - (0,05)\n",
    "\n",
    "**Enunciado:**\n",
    "\n",
    "El siguiente código define una función para calcular el precio total con impuestos. Añade las anotaciones de tipo adecuadas para la función `calculate_total_price`.\n",
    "\n",
    "```python\n",
    "def calculate_total_price(price, tax_rate):\n",
    "    tax_amount = price * tax_rate\n",
    "    total_price = price + tax_amount\n",
    "    return total_price\n",
    "\n",
    "# Ejemplo de uso\n",
    "total = calculate_total_price(100.0, 0.15)\n",
    "print(total)\n",
    "```\n",
    "\n",
    "**Requisitos:**\n",
    "- La función `calculate_total_price` toma dos parámetros: `price` (número flotante) y `tax_rate` (número flotante).\n",
    "- La función devuelve un número flotante que representa el precio total con impuestos."
   ]
  },
  {
   "cell_type": "code",
   "execution_count": 23,
   "metadata": {},
   "outputs": [
    {
     "name": "stdout",
     "output_type": "stream",
     "text": [
      "16244.9\n"
     ]
    }
   ],
   "source": [
    "from typing import Union\n",
    "\n",
    "def calculate_total_price(price: float, tax_rate: float) -> Union[float, int]:\n",
    "    tax_amount : float = price * tax_rate\n",
    "    total_price : float = price + tax_amount\n",
    "    return total_price\n",
    "\n",
    "# Ejemplo de uso\n",
    "total = calculate_total_price(1009, 15.1)\n",
    "print(total)"
   ]
  },
  {
   "cell_type": "code",
   "execution_count": 5,
   "metadata": {},
   "outputs": [],
   "source": [
    "def CountWords(text: str) -> any:\n",
    "    with open(text, \"r\") as file:\n",
    "        textread = file.readlines()\n",
    "        count = 0\n",
    "        for line in textread:\n",
    "            if line == \"\\n\":\n",
    "                continue\n",
    "            words = line.split(\" \")\n",
    "            count += len(words)\n",
    "        return count"
   ]
  },
  {
   "cell_type": "code",
   "execution_count": 6,
   "metadata": {},
   "outputs": [
    {
     "data": {
      "text/plain": [
       "799"
      ]
     },
     "execution_count": 6,
     "metadata": {},
     "output_type": "execute_result"
    }
   ],
   "source": [
    "CountWords(\"../data/Lorem.txt\")"
   ]
  }
 ],
 "metadata": {
  "kernelspec": {
   "display_name": "Python 3",
   "language": "python",
   "name": "python3"
  },
  "language_info": {
   "codemirror_mode": {
    "name": "ipython",
    "version": 3
   },
   "file_extension": ".py",
   "mimetype": "text/x-python",
   "name": "python",
   "nbconvert_exporter": "python",
   "pygments_lexer": "ipython3",
   "version": "3.12.1"
  },
  "orig_nbformat": 4
 },
 "nbformat": 4,
 "nbformat_minor": 2
}
