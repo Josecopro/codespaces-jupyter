{
 "cells": [
  {
   "cell_type": "markdown",
   "metadata": {},
   "source": [
    "1. **Sistema de Inventario:**\n",
    "   - **Enunciado:** Crea una `dataclass` llamada `Articulo` que represente un artículo en un inventario. La clase debe tener los siguientes atributos:\n",
    "     - `codigo`: Código único del artículo (cadena de texto).\n",
    "     - `nombre`: Nombre del artículo (cadena de texto).\n",
    "     - `precio`: Precio del artículo en la moneda local (número flotante).\n",
    "     - `stock`: Cantidad disponible en stock (número entero).\n",
    "   - Implementa los siguientes **dunder methods**:\n",
    "     - `__str__` para mostrar los detalles del artículo.\n",
    "     - `__eq__` para comparar dos artículos basados en el `codigo`."
   ]
  },
  {
   "cell_type": "code",
   "execution_count": 14,
   "metadata": {},
   "outputs": [],
   "source": [
    "class Articulo:\n",
    "    def __init__(self , codigo, nombre, precio, stock):\n",
    "        self.codigo = codigo\n",
    "        self.nombre = nombre\n",
    "        self.precio = precio\n",
    "        self.stock = stock\n",
    "    def __str__(self):\n",
    "        return f\"codigo: {self.codigo} -  Nombre:  {self.nombre}  - Precio:  {self.precio}  - Stock: {self.stock}\"\n",
    "        \n",
    "    def __eq__(self, other):\n",
    "        if self.codigo == other.codigo:\n",
    "            return True\n",
    "        return False"
   ]
  },
  {
   "cell_type": "code",
   "execution_count": 16,
   "metadata": {},
   "outputs": [
    {
     "name": "stdout",
     "output_type": "stream",
     "text": [
      "True\n"
     ]
    }
   ],
   "source": [
    "quesito = Articulo(1, \"queso\", 2.5, 10)\n",
    "manzana = Articulo(2, \"manzana\", 1.5, 20)\n",
    "pera = Articulo(3, \"pera\", 2.0, 15)\n",
    "\n",
    "print(quesito == manzana)"
   ]
  },
  {
   "cell_type": "markdown",
   "metadata": {},
   "source": [
    "2. **Registro de Eventos:**\n",
    "   - **Enunciado:** Diseña una `dataclass` llamada `Evento` para representar eventos en un calendario. La clase debe tener los siguientes atributos:\n",
    "     - `titulo`: Título del evento (cadena de texto).\n",
    "     - `fecha`: Fecha del evento en formato `YYYY-MM-DD` (cadena de texto).\n",
    "     - `ubicacion`: Ubicación del evento (cadena de texto).\n",
    "   - Implementa los siguientes **dunder methods**:\n",
    "     - `__str__` para mostrar la descripción del evento.\n",
    "     - `__eq__` para comparar dos eventos por su `titulo` y `fecha`."
   ]
  },
  {
   "cell_type": "code",
   "execution_count": 19,
   "metadata": {},
   "outputs": [],
   "source": [
    "class Evento: \n",
    "    def __init__(self, titulo, fecha, ubicacion):\n",
    "        self.titulo = titulo\n",
    "        self.fecha = fecha\n",
    "        self.ubicacion = ubicacion\n",
    "    def __str__(self):\n",
    "        return F\"Titulo: {self.titulo} - Fecha: {self.fecha} - Ubicacion: {self.ubicacion}\"\n",
    "    def __eq__(self, other):\n",
    "        if (self.titulo == other.titulo) and (self.fecha == other.fecha):\n",
    "            return True\n",
    "        return False        "
   ]
  },
  {
   "cell_type": "code",
   "execution_count": 21,
   "metadata": {},
   "outputs": [
    {
     "name": "stdout",
     "output_type": "stream",
     "text": [
      "True\n",
      "Titulo: casarme - Fecha: 12/12/2022 - Ubicacion: Iglesia\n"
     ]
    }
   ],
   "source": [
    "casarme = Evento(\"casarme\", \"12/12/2022\", \"Iglesia\")\n",
    "cumple = Evento(\"cumple\", \"12/12/2022\", \"Iglesia\")\n",
    "casarmeconmosa = Evento(\"casarme\", \"12/12/2022\", \"Iglesia\")\n",
    "print(casarme == casarmeconmosa)\n",
    "print(casarme)"
   ]
  },
  {
   "cell_type": "markdown",
   "metadata": {},
   "source": [
    "3. **Perfil de Usuario:**\n",
    "   - **Enunciado:** Implementa una `dataclass` llamada `Usuario` para almacenar la información de un usuario. La clase debe tener los siguientes atributos:\n",
    "     - `nombre`: Nombre del usuario (cadena de texto).\n",
    "     - `email`: Correo electrónico del usuario (cadena de texto).\n",
    "     - `activo`: Estado de la cuenta (booleano).\n",
    "   - Usa el parámetro `frozen=True` para hacer que la clase sea inmutable. Implementa los siguientes **dunder methods**:\n",
    "     - `__str__` para mostrar la información del usuario.\n",
    "     - `__eq__` para comparar dos usuarios basados en su `email`.\n"
   ]
  },
  {
   "cell_type": "code",
   "execution_count": null,
   "metadata": {},
   "outputs": [],
   "source": [
    "class Usuario: \n",
    "    def __init__(self, nombre, email, activo):\n",
    "        self.nombre = nombre\n",
    "        self.email = email\n",
    "        self.activo = activo\n",
    "\n",
    "    def __str__(self):\n",
    "        return F\"Nombre: {self.nombre} - Email: {self.email} - Activo: {self.activo}\"\n",
    "    \n",
    "    def __eq__(self, other):\n",
    "        if self.email == other.email:\n",
    "            return True\n",
    "        return False"
   ]
  },
  {
   "cell_type": "code",
   "execution_count": null,
   "metadata": {},
   "outputs": [],
   "source": [
    "maydaylopera = Usuario(\"maydaylopera\", \"Maydaylopera@gmail.com\", True)\n",
    "\n",
    "alejandrobb195 = Usuario(\"alejandrobb195\", \"Alejandrobb195@gmail.com\", True)\n",
    "\n",
    "juanbece2006 = Usuario(\"juanbece2006\", \"Juanbece@gmail.com\", True)\n",
    "\n",
    "\n"
   ]
  },
  {
   "cell_type": "markdown",
   "metadata": {},
   "source": [
    "4. **Rango de Fechas:**\n",
    "   - **Enunciado:** Crea una `dataclass` llamada `RangoFechas` que represente un rango de fechas. La clase debe tener los siguientes atributos:\n",
    "     - `fecha_inicio`: Fecha de inicio en formato `YYYY-MM-DD` (cadena de texto).\n",
    "     - `fecha_fin`: Fecha de fin en formato `YYYY-MM-DD` (cadena de texto).\n",
    "   - Implementa los siguientes **dunder methods**:\n",
    "     - `__str__` para mostrar el rango de fechas en el formato `\"Fecha Inicio - Fecha Fin\"`.\n",
    "     - `__len__` para devolver el número total de días en el rango."
   ]
  },
  {
   "cell_type": "code",
   "execution_count": 50,
   "metadata": {},
   "outputs": [],
   "source": [
    "class RangoFechas:\n",
    "    def __init__(self, fecha_inicio, fecha_fin):\n",
    "        self.fecha_inicio = fecha_inicio\n",
    "        self.fecha_fin = fecha_fin\n",
    "\n",
    "    def __str__(self):\n",
    "        return F\"Fecha Inicio: {self.fecha_inicio} - Fecha Fin: {self.fecha_fin}\"\n",
    "    \n",
    "    def __len__(self):\n",
    "        self.fecha_inicio = self.fecha_inicio.split(\"-\")\n",
    "        self.fecha_fin = self.fecha_fin.split(\"-\")\n",
    "        days = int(self.fecha_fin[2]) - int(self.fecha_inicio[2])\n",
    "        if int(self.fecha_fin[1]) > int(self.fecha_inicio[1]):\n",
    "            days += 30*(int(self.fecha_fin[1]) - int(self.fecha_inicio[1]))\n",
    "        else: \n",
    "            days += (int(self.fecha_fin[1]) - int(self.fecha_inicio[1]))*30\n",
    "        if int(self.fecha_fin[0]) > int(self.fecha_inicio[0]):\n",
    "            days += 365 * (int(self.fecha_fin[0]) - int(self.fecha_inicio[0]))\n",
    "\n",
    "        return days\n",
    "        "
   ]
  },
  {
   "cell_type": "code",
   "execution_count": 51,
   "metadata": {},
   "outputs": [
    {
     "data": {
      "text/plain": [
       "139"
      ]
     },
     "execution_count": 51,
     "metadata": {},
     "output_type": "execute_result"
    }
   ],
   "source": [
    "cumpleaños = RangoFechas(\"2024-08-04\",\"2024-12-23\")\n",
    "\n",
    "len(cumpleaños)"
   ]
  },
  {
   "cell_type": "markdown",
   "metadata": {},
   "source": [
    "5. **Resultado de Prueba:**\n",
    "   - **Enunciado:** Diseña una `dataclass` llamada `ResultadoPrueba` para almacenar los resultados de una prueba. La clase debe tener los siguientes atributos:\n",
    "     - `estudiante`: Nombre del estudiante (cadena de texto).\n",
    "     - `materia`: Materia de la prueba (cadena de texto).\n",
    "     - `calificacion`: Calificación obtenida en la prueba (número flotante).\n",
    "   - Implementa los siguientes **dunder methods**:\n",
    "     - `__str__` para mostrar los detalles del resultado.\n",
    "     - `__eq__` para comparar dos resultados basados en el `estudiante` y `materia`.\n",
    "     - `es_aprobado()` para devolver `True` si la calificación es mayor o igual a 6.0, y `False` en caso contrario."
   ]
  },
  {
   "cell_type": "code",
   "execution_count": 53,
   "metadata": {},
   "outputs": [],
   "source": [
    "class ResultadoPrueba:\n",
    "    \n",
    "    def __init__(self,estudiante, materia, calificacion):\n",
    "        self.estudiante = estudiante\n",
    "        self.materia = materia\n",
    "        self.calificacion = calificacion\n",
    "\n",
    "    def __str__(self):\n",
    "        return F\"Estudiante: {self.estudiante} - Materia: {self.materia} - Calificacion: {self.calificacion}\"\n",
    "\n",
    "    def __eq__(self, other):\n",
    "        return (self.materia == other.materia) and (self.estudiante == other.estudiante)\n",
    "\n",
    "    def es_aprobado(self):\n",
    "        return self.calificacion >= 6.0\n"
   ]
  },
  {
   "cell_type": "code",
   "execution_count": 58,
   "metadata": {},
   "outputs": [
    {
     "name": "stdout",
     "output_type": "stream",
     "text": [
      "Estudiante: Mayday - Materia: Matematicas - Calificacion: 5.0\n"
     ]
    },
    {
     "data": {
      "text/plain": [
       "False"
      ]
     },
     "execution_count": 58,
     "metadata": {},
     "output_type": "execute_result"
    }
   ],
   "source": [
    "estudiante1 = ResultadoPrueba(\"Mayday\", \"Matematicas\", 5.0)\n",
    "estudiante2 = ResultadoPrueba(\"Mayday\", \"Matematicas\", 5.0)\n",
    "estudiante3 = ResultadoPrueba(\"Mayday\", \"ciencias\", 7.0)\n",
    "\n",
    "estudiante1 == estudiante3\n",
    "\n",
    "print(estudiante1)\n",
    "\n",
    "estudiante3.es_aprobado()\n",
    "estudiante2.es_aprobado()"
   ]
  },
  {
   "cell_type": "markdown",
   "metadata": {},
   "source": [
    "4. **Rango de Fechas con tipo de dato DATE:** \n",
    "   - **Enunciado:** Crea una `dataclass` llamada `RangoFechas` que represente un rango de fechas. La clase debe tener los siguientes atributos:\n",
    "     - `fecha_inicio`: Fecha de inicio en formato `YYYY-MM-DD` (cadena de texto).\n",
    "     - `fecha_fin`: Fecha de fin en formato `YYYY-MM-DD` (cadena de texto).\n",
    "   - Implementa los siguientes **dunder methods**:\n",
    "     - `__str__` para mostrar el rango de fechas en el formato `\"Fecha Inicio - Fecha Fin\"`.\n",
    "     - `__len__` para devolver el número total de días en el rango."
   ]
  },
  {
   "cell_type": "markdown",
   "metadata": {},
   "source": [
    "### Reto 4: Sistema de Gestión de Empleados y Proyectos (0,4)\n",
    "**Descripción:**\n",
    "Diseña un sistema que permita gestionar empleados y los proyectos en los que están involucrados. Debes definir dos clases principales: `Empleado` y `Proyecto`.\n",
    "\n",
    "#### Clase `Empleado`:\n",
    "- `nombre`: nombre del empleado.\n",
    "- `puesto`: el cargo o puesto que desempeña el empleado.\n",
    "- `salario`: el salario base del empleado.\n",
    "- `proyectos`: una lista de instancias de la clase `Proyecto` en las que el empleado está participando.\n",
    "\n",
    "#### Clase `Proyecto`:\n",
    "- `nombre`: nombre del proyecto.\n",
    "- `horas_requeridas`: horas requeridas para completar el proyecto.\n",
    "- `horas_trabajadas`: horas ya trabajadas por los empleados en este proyecto.\n",
    "\n",
    "Funciones requeridas:\n",
    "1. Implementar en la clase `Empleado` el método `__str__` para mostrar el nombre, el puesto y el total de proyectos en los que está participando.\n",
    "2. Crear una propiedad en la clase `Empleado` llamada `salario_total`, que calcule el salario base más un bono basado en la cantidad de proyectos en los que el empleado está trabajando.\n",
    "3. Implementar un método especial `__add__` en la clase `Empleado` para permitir sumar dos empleados y generar un nuevo empleado que combine los proyectos de ambos y promedie los salarios.\n",
    "4. En la clase `Proyecto`, implementar una propiedad `completado` que devuelva `True` si las horas trabajadas son mayores o iguales a las horas requeridas, y evitar que esta propiedad pueda ser alterada directamente.\n",
    "5. Implementar el método especial `__iadd__` en la clase `Proyecto` para aumentar las horas trabajadas.\n",
    "\n",
    "**Objetivos:**\n",
    "- Gestionar empleados y sus proyectos con relaciones entre ambas clases.\n",
    "- Calcular el salario total de un empleado con bonificaciones por proyecto.\n",
    "- Combinar dos empleados utilizando la sobrecarga de operadores.\n",
    "- Validar si un proyecto ha sido completado usando `properties` y métodos especiales."
   ]
  },
  {
   "cell_type": "code",
   "execution_count": 49,
   "metadata": {},
   "outputs": [],
   "source": [
    "class Empleado: \n",
    "    def __init__(self, nombre,puesto, salario, proyectos):\n",
    "        self.nombre = nombre\n",
    "        self.puesto = puesto\n",
    "        self.salario = salario\n",
    "        self.proyectos = proyectos\n",
    "    def __str__(self):\n",
    "        return F\"Nombre: {self.nombre} - Puesto: {self.puesto} - Proyectos: {self.proyectos}\"\n",
    "    \n",
    "    def SalarioTotal(self):\n",
    "        return self.salario * len(self.proyectos)\n",
    "    \n",
    "    def __add__(self, other):\n",
    "        self.proyectos.append(other.proyectos)\n",
    "        self.salario = ((self.salario + other.salario)*len(self.proyectos))/2\n",
    "        return F\"Nombre: {self.nombre} - Puesto: {self.puesto} - Salario {self.salario} - Proyectos: {self.proyectos}\"\n",
    "\n",
    "class Proyecto:\n",
    "    def __init__(self, Nombre, HorasRequeridas, HorasTrabajadas):\n",
    "        self.nombre = Nombre\n",
    "        self.HorasRequeridas = HorasRequeridas\n",
    "        self.HorasTrabajadas = HorasTrabajadas\n",
    "\n",
    "    def __repr__(self):\n",
    "        return F\"Nombre: {self.nombre} - Horas Requeridas: {self.HorasRequeridas} - Horas Trabajadas: {self.HorasTrabajadas}\"\n",
    "    @property\n",
    "    def Completado(self):\n",
    "        return self.HorasRequeridas <= self.HorasTrabajadas\n",
    "    \n",
    "    @Completado.setter\n",
    "    def Completado(self, value):\n",
    "        if value:\n",
    "            self.HorasTrabajadas == self.HorasRequeridas\n",
    "        else:\n",
    "            return self.HorasTrabajadas\n",
    "\n",
    "\n",
    "    def __iadd__(self, other):\n",
    "        self.HorasTrabajadas += other\n",
    "        return self\n",
    "    \n"
   ]
  },
  {
   "cell_type": "code",
   "execution_count": 52,
   "metadata": {},
   "outputs": [
    {
     "name": "stdout",
     "output_type": "stream",
     "text": [
      "Nombre: Juanito - Puesto: Programador - Salario 4500.0 - Proyectos: [Nombre: Proyecto1 - Horas Requeridas: 200 - Horas Trabajadas: 100, Nombre: Proyecto2 - Horas Requeridas: 120 - Horas Trabajadas: 100, [Nombre: Proyecto2 - Horas Requeridas: 120 - Horas Trabajadas: 100, Nombre: Proyecto2 - Horas Requeridas: 120 - Horas Trabajadas: 400]]\n",
      "<class '__main__.Proyecto'>\n",
      "Nombre: Proyecto1 - Horas Requeridas: 200 - Horas Trabajadas: 200\n"
     ]
    }
   ],
   "source": [
    "proyecto1 = Proyecto(\"Proyecto1\", 200, 100)\n",
    "proyecto2 = Proyecto(\"Proyecto2\", 120, 100)\n",
    "proyecto3 = Proyecto(\"Proyecto2\", 120, 100)\n",
    "proyecto4 = Proyecto(\"Proyecto2\", 120, 400)\n",
    "\n",
    "juanito = Empleado(\"Juanito\", \"Programador\", 1000, [proyecto1, proyecto2])\n",
    "\n",
    "alejandrito = Empleado(\"Alejandrito\", \"Programador\", 2000, [proyecto3, proyecto4])\n",
    "\n",
    "juanito.SalarioTotal()\n",
    "\n",
    "peranito = juanito + alejandrito\n",
    "print(peranito)\n",
    "print(type(proyecto1))\n",
    "proyecto1 += 100\n",
    "print(proyecto1)\n"
   ]
  }
 ],
 "metadata": {
  "kernelspec": {
   "display_name": "Python 3.10.4 64-bit",
   "language": "python",
   "name": "python3"
  },
  "language_info": {
   "codemirror_mode": {
    "name": "ipython",
    "version": 3
   },
   "file_extension": ".py",
   "mimetype": "text/x-python",
   "name": "python",
   "nbconvert_exporter": "python",
   "pygments_lexer": "ipython3",
   "version": "3.12.1"
  },
  "orig_nbformat": 4,
  "vscode": {
   "interpreter": {
    "hash": "3ad933181bd8a04b432d3370b9dc3b0662ad032c4dfaa4e4f1596c548f763858"
   }
  }
 },
 "nbformat": 4,
 "nbformat_minor": 2
}
