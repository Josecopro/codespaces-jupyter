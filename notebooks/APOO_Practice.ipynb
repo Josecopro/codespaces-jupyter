{
 "cells": [
  {
   "cell_type": "markdown",
   "metadata": {},
   "source": [
    "1. **Sistema de Inventario:**\n",
    "   - **Enunciado:** Crea una `dataclass` llamada `Articulo` que represente un artículo en un inventario. La clase debe tener los siguientes atributos:\n",
    "     - `codigo`: Código único del artículo (cadena de texto).\n",
    "     - `nombre`: Nombre del artículo (cadena de texto).\n",
    "     - `precio`: Precio del artículo en la moneda local (número flotante).\n",
    "     - `stock`: Cantidad disponible en stock (número entero).\n",
    "   - Implementa los siguientes **dunder methods**:\n",
    "     - `__str__` para mostrar los detalles del artículo.\n",
    "     - `__eq__` para comparar dos artículos basados en el `codigo`."
   ]
  },
  {
   "cell_type": "code",
   "execution_count": 14,
   "metadata": {},
   "outputs": [],
   "source": [
    "class Articulo:\n",
    "    def __init__(self , codigo, nombre, precio, stock):\n",
    "        self.codigo = codigo\n",
    "        self.nombre = nombre\n",
    "        self.precio = precio\n",
    "        self.stock = stock\n",
    "    def __str__(self):\n",
    "        return f\"codigo: {self.codigo} -  Nombre:  {self.nombre}  - Precio:  {self.precio}  - Stock: {self.stock}\"\n",
    "        \n",
    "    def __eq__(self, other):\n",
    "        if self.codigo == other.codigo:\n",
    "            return True\n",
    "        return False"
   ]
  },
  {
   "cell_type": "code",
   "execution_count": 16,
   "metadata": {},
   "outputs": [
    {
     "name": "stdout",
     "output_type": "stream",
     "text": [
      "True\n"
     ]
    }
   ],
   "source": [
    "quesito = Articulo(1, \"queso\", 2.5, 10)\n",
    "manzana = Articulo(2, \"manzana\", 1.5, 20)\n",
    "pera = Articulo(3, \"pera\", 2.0, 15)\n",
    "\n",
    "print(quesito == manzana)"
   ]
  },
  {
   "cell_type": "markdown",
   "metadata": {},
   "source": [
    "2. **Registro de Eventos:**\n",
    "   - **Enunciado:** Diseña una `dataclass` llamada `Evento` para representar eventos en un calendario. La clase debe tener los siguientes atributos:\n",
    "     - `titulo`: Título del evento (cadena de texto).\n",
    "     - `fecha`: Fecha del evento en formato `YYYY-MM-DD` (cadena de texto).\n",
    "     - `ubicacion`: Ubicación del evento (cadena de texto).\n",
    "   - Implementa los siguientes **dunder methods**:\n",
    "     - `__str__` para mostrar la descripción del evento.\n",
    "     - `__eq__` para comparar dos eventos por su `titulo` y `fecha`."
   ]
  },
  {
   "cell_type": "code",
   "execution_count": 19,
   "metadata": {},
   "outputs": [],
   "source": [
    "class Evento: \n",
    "    def __init__(self, titulo, fecha, ubicacion):\n",
    "        self.titulo = titulo\n",
    "        self.fecha = fecha\n",
    "        self.ubicacion = ubicacion\n",
    "    def __str__(self):\n",
    "        return F\"Titulo: {self.titulo} - Fecha: {self.fecha} - Ubicacion: {self.ubicacion}\"\n",
    "    def __eq__(self, other):\n",
    "        if (self.titulo == other.titulo) and (self.fecha == other.fecha):\n",
    "            return True\n",
    "        return False        "
   ]
  },
  {
   "cell_type": "code",
   "execution_count": 21,
   "metadata": {},
   "outputs": [
    {
     "name": "stdout",
     "output_type": "stream",
     "text": [
      "True\n",
      "Titulo: casarme - Fecha: 12/12/2022 - Ubicacion: Iglesia\n"
     ]
    }
   ],
   "source": [
    "casarme = Evento(\"casarme\", \"12/12/2022\", \"Iglesia\")\n",
    "cumple = Evento(\"cumple\", \"12/12/2022\", \"Iglesia\")\n",
    "casarmeconmosa = Evento(\"casarme\", \"12/12/2022\", \"Iglesia\")\n",
    "print(casarme == casarmeconmosa)\n",
    "print(casarme)"
   ]
  },
  {
   "cell_type": "markdown",
   "metadata": {},
   "source": [
    "3. **Perfil de Usuario:**\n",
    "   - **Enunciado:** Implementa una `dataclass` llamada `Usuario` para almacenar la información de un usuario. La clase debe tener los siguientes atributos:\n",
    "     - `nombre`: Nombre del usuario (cadena de texto).\n",
    "     - `email`: Correo electrónico del usuario (cadena de texto).\n",
    "     - `activo`: Estado de la cuenta (booleano).\n",
    "   - Usa el parámetro `frozen=True` para hacer que la clase sea inmutable. Implementa los siguientes **dunder methods**:\n",
    "     - `__str__` para mostrar la información del usuario.\n",
    "     - `__eq__` para comparar dos usuarios basados en su `email`.\n"
   ]
  },
  {
   "cell_type": "code",
   "execution_count": null,
   "metadata": {},
   "outputs": [],
   "source": [
    "class Usuario: \n",
    "    def __init__(self, nombre, email, activo):\n",
    "        self.nombre = nombre\n",
    "        self.email = email\n",
    "        self.activo = activo\n",
    "\n",
    "    def __str__(self):\n",
    "        return F\"Nombre: {self.nombre} - Email: {self.email} - Activo: {self.activo}\"\n",
    "    \n",
    "    def __eq__(self, other):\n",
    "        if self.email == other.email:\n",
    "            return True\n",
    "        return False"
   ]
  },
  {
   "cell_type": "code",
   "execution_count": null,
   "metadata": {},
   "outputs": [],
   "source": [
    "maydaylopera = Usuario(\"maydaylopera\", \"Maydaylopera@gmail.com\", True)\n",
    "\n",
    "alejandrobb195 = Usuario(\"alejandrobb195\", \"Alejandrobb195@gmail.com\", True)\n",
    "\n",
    "juanbece2006 = Usuario(\"juanbece2006\", \"Juanbece@gmail.com\", True)\n",
    "\n",
    "\n"
   ]
  },
  {
   "cell_type": "markdown",
   "metadata": {},
   "source": [
    "4. **Rango de Fechas:**\n",
    "   - **Enunciado:** Crea una `dataclass` llamada `RangoFechas` que represente un rango de fechas. La clase debe tener los siguientes atributos:\n",
    "     - `fecha_inicio`: Fecha de inicio en formato `YYYY-MM-DD` (cadena de texto).\n",
    "     - `fecha_fin`: Fecha de fin en formato `YYYY-MM-DD` (cadena de texto).\n",
    "   - Implementa los siguientes **dunder methods**:\n",
    "     - `__str__` para mostrar el rango de fechas en el formato `\"Fecha Inicio - Fecha Fin\"`.\n",
    "     - `__len__` para devolver el número total de días en el rango."
   ]
  },
  {
   "cell_type": "code",
   "execution_count": 50,
   "metadata": {},
   "outputs": [],
   "source": [
    "class RangoFechas:\n",
    "    def __init__(self, fecha_inicio, fecha_fin):\n",
    "        self.fecha_inicio = fecha_inicio\n",
    "        self.fecha_fin = fecha_fin\n",
    "\n",
    "    def __str__(self):\n",
    "        return F\"Fecha Inicio: {self.fecha_inicio} - Fecha Fin: {self.fecha_fin}\"\n",
    "    \n",
    "    def __len__(self):\n",
    "        self.fecha_inicio = self.fecha_inicio.split(\"-\")\n",
    "        self.fecha_fin = self.fecha_fin.split(\"-\")\n",
    "        days = int(self.fecha_fin[2]) - int(self.fecha_inicio[2])\n",
    "        if int(self.fecha_fin[1]) > int(self.fecha_inicio[1]):\n",
    "            days += 30*(int(self.fecha_fin[1]) - int(self.fecha_inicio[1]))\n",
    "        else: \n",
    "            days += (int(self.fecha_fin[1]) - int(self.fecha_inicio[1]))*30\n",
    "        if int(self.fecha_fin[0]) > int(self.fecha_inicio[0]):\n",
    "            days += 365\n",
    "        return days\n",
    "        "
   ]
  },
  {
   "cell_type": "code",
   "execution_count": 51,
   "metadata": {},
   "outputs": [
    {
     "data": {
      "text/plain": [
       "139"
      ]
     },
     "execution_count": 51,
     "metadata": {},
     "output_type": "execute_result"
    }
   ],
   "source": [
    "cumpleaños = RangoFechas(\"2024-08-04\",\"2024-12-23\")\n",
    "\n",
    "len(cumpleaños)"
   ]
  },
  {
   "cell_type": "markdown",
   "metadata": {},
   "source": [
    "5. **Resultado de Prueba:**\n",
    "   - **Enunciado:** Diseña una `dataclass` llamada `ResultadoPrueba` para almacenar los resultados de una prueba. La clase debe tener los siguientes atributos:\n",
    "     - `estudiante`: Nombre del estudiante (cadena de texto).\n",
    "     - `materia`: Materia de la prueba (cadena de texto).\n",
    "     - `calificacion`: Calificación obtenida en la prueba (número flotante).\n",
    "   - Implementa los siguientes **dunder methods**:\n",
    "     - `__str__` para mostrar los detalles del resultado.\n",
    "     - `__eq__` para comparar dos resultados basados en el `estudiante` y `materia`.\n",
    "     - `es_aprobado()` para devolver `True` si la calificación es mayor o igual a 6.0, y `False` en caso contrario."
   ]
  },
  {
   "cell_type": "code",
   "execution_count": 53,
   "metadata": {},
   "outputs": [],
   "source": [
    "class ResultadoPrueba:\n",
    "    \n",
    "    def __init__(self,estudiante, materia, calificacion):\n",
    "        self.estudiante = estudiante\n",
    "        self.materia = materia\n",
    "        self.calificacion = calificacion\n",
    "\n",
    "    def __str__(self):\n",
    "        return F\"Estudiante: {self.estudiante} - Materia: {self.materia} - Calificacion: {self.calificacion}\"\n",
    "\n",
    "    def __eq__(self, other):\n",
    "        return (self.materia == other.materia) and (self.estudiante == other.estudiante)\n",
    "\n",
    "    def es_aprobado(self):\n",
    "        return self.calificacion >= 6.0\n"
   ]
  },
  {
   "cell_type": "code",
   "execution_count": 58,
   "metadata": {},
   "outputs": [
    {
     "name": "stdout",
     "output_type": "stream",
     "text": [
      "Estudiante: Mayday - Materia: Matematicas - Calificacion: 5.0\n"
     ]
    },
    {
     "data": {
      "text/plain": [
       "False"
      ]
     },
     "execution_count": 58,
     "metadata": {},
     "output_type": "execute_result"
    }
   ],
   "source": [
    "estudiante1 = ResultadoPrueba(\"Mayday\", \"Matematicas\", 5.0)\n",
    "estudiante2 = ResultadoPrueba(\"Mayday\", \"Matematicas\", 5.0)\n",
    "estudiante3 = ResultadoPrueba(\"Mayday\", \"ciencias\", 7.0)\n",
    "\n",
    "estudiante1 == estudiante3\n",
    "\n",
    "print(estudiante1)\n",
    "\n",
    "estudiante3.es_aprobado()\n",
    "estudiante2.es_aprobado()"
   ]
  }
 ],
 "metadata": {
  "kernelspec": {
   "display_name": "Python 3.10.4 64-bit",
   "language": "python",
   "name": "python3"
  },
  "language_info": {
   "codemirror_mode": {
    "name": "ipython",
    "version": 3
   },
   "file_extension": ".py",
   "mimetype": "text/x-python",
   "name": "python",
   "nbconvert_exporter": "python",
   "pygments_lexer": "ipython3",
   "version": "3.12.1"
  },
  "orig_nbformat": 4,
  "vscode": {
   "interpreter": {
    "hash": "3ad933181bd8a04b432d3370b9dc3b0662ad032c4dfaa4e4f1596c548f763858"
   }
  }
 },
 "nbformat": 4,
 "nbformat_minor": 2
}
