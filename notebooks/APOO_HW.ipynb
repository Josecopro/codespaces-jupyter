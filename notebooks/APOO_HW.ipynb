{
 "cells": [
  {
   "cell_type": "code",
   "execution_count": 10,
   "metadata": {},
   "outputs": [],
   "source": [
    "import numpy as np\n",
    "import random as rd"
   ]
  },
  {
   "cell_type": "code",
   "execution_count": 11,
   "metadata": {},
   "outputs": [
    {
     "name": "stdout",
     "output_type": "stream",
     "text": [
      "('Juanito', 'Ventas', 1000)\n",
      "1100.0\n"
     ]
    }
   ],
   "source": [
    "class Empleado:\n",
    "    def __init__(self, nombre, departamento, salario):\n",
    "        self.nombre = nombre\n",
    "        self.departamento = departamento\n",
    "        self.salario = salario \n",
    "    def Aumento_salario(self, aumento):\n",
    "        self.salario = self.salario * aumento\n",
    "        return self.salario\n",
    "    def Datos_empleado(self):\n",
    "        return self.nombre, self.departamento, self.salario\n",
    "\n",
    "juanito = Empleado(\"Juanito\", \"Ventas\", 1000)\n",
    "print(juanito.Datos_empleado())\n",
    "print(juanito.Aumento_salario(1.1))\n"
   ]
  },
  {
   "cell_type": "code",
   "execution_count": 12,
   "metadata": {},
   "outputs": [
    {
     "name": "stdout",
     "output_type": "stream",
     "text": [
      "(56, 4)\n",
      "54.037024344425184\n"
     ]
    }
   ],
   "source": [
    "class Punto:\n",
    "    def __init__(self, x, y):\n",
    "        self.x = x\n",
    "        self.y = y\n",
    "    def Mover_punto(self, x, y):\n",
    "        self.x = x\n",
    "        self.y = y\n",
    "        return self.x, self.y\n",
    "    def Distancia(self, punto):\n",
    "        return np.sqrt((self.x - punto.x)**2 + (self.y - punto.y)**2)\n",
    "Punto1 = Punto(1, 1)\n",
    "Punto2 = Punto(2, 2)\n",
    "print(Punto1.Mover_punto(56, 4))\n",
    "print(Punto1.Distancia(Punto2))\n"
   ]
  },
  {
   "cell_type": "code",
   "execution_count": 13,
   "metadata": {},
   "outputs": [
    {
     "name": "stdout",
     "output_type": "stream",
     "text": [
      "123456789\n",
      "Contacto no encontrado\n"
     ]
    }
   ],
   "source": [
    "class Agenda:\n",
    "    def __init__(self):\n",
    "        self.nombres = []\n",
    "        self.telefonos = []\n",
    "    def Agregar_contacto(self, nombre, telefono):\n",
    "        self.nombres.append(nombre)\n",
    "        self.telefonos.append(telefono)\n",
    "    def Buscar_contacto(self, nombre):\n",
    "        if nombre in self.nombres:\n",
    "            return self.telefonos[self.nombres.index(nombre)]\n",
    "        else:\n",
    "            return \"Contacto no encontrado\"\n",
    "    def Eliminar_contacto(self, nombre):\n",
    "        if nombre in self.nombres:\n",
    "            self.telefonos.pop(self.nombres.index(nombre))\n",
    "            self.nombres.remove(nombre)\n",
    "        else:\n",
    "            return \"Contacto no encontrado\"\n",
    "agenda = Agenda()\n",
    "agenda.Agregar_contacto(\"Juanito\", 123456789)\n",
    "agenda.Agregar_contacto(\"Pepito\", 987654321)\n",
    "agenda.Agregar_contacto(\"Jaimito\", 456789123)\n",
    "print(agenda.Buscar_contacto(\"Juanito\"))\n",
    "agenda.Eliminar_contacto(\"Juanito\")\n",
    "print(agenda.Buscar_contacto(\"Juanito\"))\n"
   ]
  },
  {
   "cell_type": "code",
   "execution_count": 14,
   "metadata": {},
   "outputs": [
    {
     "name": "stdout",
     "output_type": "stream",
     "text": [
      "80\n",
      "400\n",
      "Es un cuadrado!\n"
     ]
    }
   ],
   "source": [
    "class Rectangulo: \n",
    "    def __init__(self, largo, ancho):\n",
    "        self.largo = largo\n",
    "        self.ancho = ancho\n",
    "    def Perimetro(self):\n",
    "        return 2*self.largo + 2*self.ancho\n",
    "    def Area(self):\n",
    "        return self.largo * self.ancho\n",
    "    def Cuadrado(self):\n",
    "        if self.ancho == self.largo:\n",
    "            return\"Es un cuadrado!\"\n",
    "        else:\n",
    "            return \"No es un cuadrado\"\n",
    "ola = Rectangulo(20,20)\n",
    "print(ola.Perimetro())\n",
    "print(ola.Area())\n",
    "print(ola.Cuadrado())"
   ]
  },
  {
   "cell_type": "code",
   "execution_count": 15,
   "metadata": {},
   "outputs": [
    {
     "name": "stdout",
     "output_type": "stream",
     "text": [
      "3.0\n",
      "Aprobado\n"
     ]
    }
   ],
   "source": [
    "class Estudiante:\n",
    "    def __init__(self,notas, nombre):\n",
    "        self.nombre = nombre\n",
    "        self.notas = []\n",
    "    def Promedio(self):\n",
    "        return sum(self.notas)/len(self.notas)\n",
    "    def Agregar_nota(self, nota):\n",
    "        self.notas.append(nota)\n",
    "    def paso(self):\n",
    "        if self.Promedio() >= 3:\n",
    "            return \"Aprobado\"\n",
    "        else:\n",
    "            return \"Reprobado\"\n",
    "juanito = Estudiante([3,4,1,5,5,2], \"Juanito\")\n",
    "juanito.Agregar_nota(3)\n",
    "print(juanito.Promedio())\n",
    "print(juanito.paso())\n"
   ]
  },
  {
   "cell_type": "markdown",
   "metadata": {},
   "source": [
    "# Ejercicios 2\n"
   ]
  },
  {
   "cell_type": "code",
   "execution_count": 16,
   "metadata": {},
   "outputs": [
    {
     "name": "stdout",
     "output_type": "stream",
     "text": [
      "Hola Juanito 2072352223309\n",
      "Hola2 Juanito2 8431846739267\n",
      "Hola3 Juanito3 6897375893198\n"
     ]
    }
   ],
   "source": [
    "class libro:\n",
    "    def __init__(self, titulo, autor):\n",
    "        self.titulo = titulo\n",
    "        self.autor = autor\n",
    "        self.isbn = rd.randint(1000000000000,9999999999999)\n",
    "class Biblioteca:\n",
    "    def __init__(self):\n",
    "        self.libros = []\n",
    "    def Agregar_libro(self, libro):\n",
    "        if libro not in self.libros:\n",
    "            self.libros.append(libro)\n",
    "        else:\n",
    "            return \"Libro ya agregado\"\n",
    "    def Buscar_libro(self, titulo):\n",
    "        for i in self.libros:\n",
    "            if i.titulo == titulo:\n",
    "                return i.isbn, i.autor\n",
    "        return \"Libro no encontrado\"\n",
    "    def Eliminar_libro(self, isbn):\n",
    "        for i in self.libros:\n",
    "            if i.isbn == isbn:\n",
    "                self.libros.remove(i)\n",
    "                return \"Libro eliminado\"\n",
    "        return \"Libro no encontrado\"\n",
    "    def Mostrar_libros(self):\n",
    "        for i in self.libros:\n",
    "            print(i.titulo, i.autor, i.isbn)\n",
    "biblioteca = Biblioteca()\n",
    "libro1 = libro(\"Hola\", \"Juanito\")\n",
    "libro2 = libro(\"Hola2\", \"Juanito2\")\n",
    "libro3 = libro(\"Hola3\", \"Juanito3\")\n",
    "biblioteca.Agregar_libro(libro1)\n",
    "biblioteca.Agregar_libro(libro2)\n",
    "biblioteca.Agregar_libro(libro3)\n",
    "biblioteca.Agregar_libro(libro2)\n",
    "\n",
    "biblioteca.Mostrar_libros()\n"
   ]
  },
  {
   "cell_type": "code",
   "execution_count": 17,
   "metadata": {},
   "outputs": [
    {
     "data": {
      "text/plain": [
       "'Libro eliminado'"
      ]
     },
     "execution_count": 17,
     "metadata": {},
     "output_type": "execute_result"
    }
   ],
   "source": [
    "biblioteca.Eliminar_libro(libro2.isbn)\n"
   ]
  },
  {
   "cell_type": "code",
   "execution_count": 18,
   "metadata": {},
   "outputs": [
    {
     "data": {
      "text/plain": [
       "2000"
      ]
     },
     "execution_count": 18,
     "metadata": {},
     "output_type": "execute_result"
    }
   ],
   "source": [
    "class Cuenta_bancaria:\n",
    "    def __init__(self, nombre, saldo):\n",
    "        self.nombre = nombre\n",
    "        self.saldo = saldo\n",
    "    def Depositar(self, monto):\n",
    "        self.saldo += monto\n",
    "    def Retirar(self, monto):\n",
    "        self.saldo -= monto\n",
    "    def Mostrar_saldo(self):\n",
    "        return self.saldo\n",
    "juanito = Cuenta_bancaria(\"Juanito\", 1000)\n",
    "juanito.Depositar(1000)\n",
    "juanito.Mostrar_saldo()"
   ]
  }
 ],
 "metadata": {
  "kernelspec": {
   "display_name": "Python 3",
   "language": "python",
   "name": "python3"
  },
  "language_info": {
   "codemirror_mode": {
    "name": "ipython",
    "version": 3
   },
   "file_extension": ".py",
   "mimetype": "text/x-python",
   "name": "python",
   "nbconvert_exporter": "python",
   "pygments_lexer": "ipython3",
   "version": "3.12.1"
  },
  "orig_nbformat": 4
 },
 "nbformat": 4,
 "nbformat_minor": 2
}
