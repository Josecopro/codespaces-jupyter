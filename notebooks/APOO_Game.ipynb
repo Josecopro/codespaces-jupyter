{
 "cells": [
  {
   "cell_type": "code",
   "execution_count": 222,
   "metadata": {},
   "outputs": [],
   "source": [
    "# Jugador que se puede mover en cualquier lugar \n",
    "from dataclasses import dataclass\n",
    "from typing import Dict, Union, List\n",
    "import random as rd\n",
    "\n",
    "@dataclass\n",
    "class Player:\n",
    "    Name: str\n",
    "    Position: List[int]\n",
    "    def __post_init__(self):\n",
    "        self.Position = self.Position\n",
    "    \n",
    "    def Move(self, Direction: str):\n",
    "        if Direction.lower() == 'up':\n",
    "            self.Position[0] -= 1\n",
    "        elif Direction.lower() == 'down':\n",
    "            self.Position[0] += 1\n",
    "        elif Direction.lower() == 'left':\n",
    "            self.Position[1] -= 1\n",
    "        elif Direction.lower() == 'right':\n",
    "            self.Position[1] += 1\n",
    "        else:\n",
    "            print('Invalid Direction')\n",
    "            return\n",
    "        print(f'{self.Name} moved to {self.Position}')\n",
    "    \n",
    "\n",
    "@dataclass\n",
    "class Obstacle:\n",
    "    Name: str = 'x'\n",
    "    def __post_init__(self):\n",
    "        self.Position = self.GenerateObstacle()  \n",
    "    def GenerateObstacle(self):\n",
    "        self.Position = [rd.randint(0, 5), rd.randint(0, 5)]\n",
    "        return self.Position\n",
    "\n",
    "@dataclass\n",
    "class Grid:\n",
    "    Size: int\n",
    "    Positions = []\n",
    "\n",
    "    def __post_init__(self):\n",
    "        self.grid = [[' ' for _ in range(self.Size)] for _ in range(self.Size)] \n",
    "\n",
    "    def CheckMovement(self):\n",
    "        for Position in self.Positions:\n",
    "            if Position.Position[0] < 0 or Position.Position[0] >= self.Size or Position.Position[1] < 0 or Position.Position[1] >= self.Size:\n",
    "                return False\n",
    "        return True\n",
    "\n",
    "\n",
    "\n",
    "    def UpdatePosition(self, NewPosition: List[int], PlayerName: str):\n",
    "        for Position in self.Positions:\n",
    "            if(self.CheckMovement()):\n",
    "                if Position.Name == PlayerName:\n",
    "                    Position.Position = NewPosition\n",
    "                    break\n",
    "        self.UpdateGrid()\n",
    "\n",
    "    def UpdateGrid(self):\n",
    "        self.grid = [[' ' for _ in range(self.Size)] for _ in range(self.Size)]\n",
    "\n",
    "        for Position in self.Positions:\n",
    "            self.grid[Position.Position[0]][Position.Position[1]] = Position.Name\n",
    "        self.ShowGrid()\n",
    "\n",
    "    def ShowGrid(self):\n",
    "        for row in self.grid:\n",
    "            print(row)\n",
    "    def Try(self):\n",
    "        return self.Obstacles[0].Position\n",
    "\n",
    "\n",
    "    \n"
   ]
  },
  {
   "cell_type": "code",
   "execution_count": 223,
   "metadata": {},
   "outputs": [],
   "source": [
    "Juego = Grid(10)\n",
    "Jugador1 = Player('A', [0, 0])\n",
    "Jugador2 = Player('B', [1, 1])\n",
    "\n",
    "Juego.Positions.append(Jugador1)\n",
    "Juego.Positions.append(Jugador2)\n",
    "Obstaculo = Obstacle()\n",
    "\n",
    "Juego.Positions.append(Obstaculo)"
   ]
  },
  {
   "cell_type": "code",
   "execution_count": 225,
   "metadata": {},
   "outputs": [
    {
     "name": "stdout",
     "output_type": "stream",
     "text": [
      "A moved to [2, 0]\n",
      "B moved to [1, 3]\n",
      "[' ', ' ', ' ', ' ', ' ', ' ', ' ', ' ', ' ', ' ']\n",
      "[' ', ' ', ' ', 'B', ' ', ' ', ' ', ' ', ' ', ' ']\n",
      "['A', ' ', ' ', ' ', ' ', ' ', ' ', ' ', ' ', ' ']\n",
      "[' ', ' ', ' ', ' ', ' ', ' ', ' ', ' ', ' ', ' ']\n",
      "[' ', ' ', ' ', ' ', ' ', ' ', ' ', ' ', ' ', ' ']\n",
      "[' ', ' ', ' ', 'x', ' ', ' ', ' ', ' ', ' ', ' ']\n",
      "[' ', ' ', ' ', ' ', ' ', ' ', ' ', ' ', ' ', ' ']\n",
      "[' ', ' ', ' ', ' ', ' ', ' ', ' ', ' ', ' ', ' ']\n",
      "[' ', ' ', ' ', ' ', ' ', ' ', ' ', ' ', ' ', ' ']\n",
      "[' ', ' ', ' ', ' ', ' ', ' ', ' ', ' ', ' ', ' ']\n"
     ]
    }
   ],
   "source": [
    "\n",
    "Jugador1.Move('down')\n",
    "Jugador2.Move('right')\n",
    "\n",
    "Juego.UpdateGrid()"
   ]
  }
 ],
 "metadata": {
  "kernelspec": {
   "display_name": "Python 3",
   "language": "python",
   "name": "python3"
  },
  "language_info": {
   "codemirror_mode": {
    "name": "ipython",
    "version": 3
   },
   "file_extension": ".py",
   "mimetype": "text/x-python",
   "name": "python",
   "nbconvert_exporter": "python",
   "pygments_lexer": "ipython3",
   "version": "3.12.1"
  }
 },
 "nbformat": 4,
 "nbformat_minor": 2
}
