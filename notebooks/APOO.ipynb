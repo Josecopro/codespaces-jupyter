{
 "cells": [
  {
   "cell_type": "markdown",
   "metadata": {},
   "source": [
    "# Herencia\n",
    "\n",
    "> Se pueden clases hijas o subclases, en donde se pueden *Extender* sus datos y sus metodos, esto ayuda para ahorrar codigo haciendo generalizaciones y haciendo las clases hijas *especialiasitas* en un tema especifico\n",
    "\n",
    "\n",
    " ## ¿Como lo podemos usar?\n",
    "\n",
    " > Un ejemplo para nuestro proyecto es poder crear una nueva clase Usuario. Esta se encargara de guardar datos en comun tales como el nombre, usuario y contraseña, al igual que los metodos como iniciar sesion \n",
    "\n",
    " ##Ejemplo: \n",
    "   ```python\n",
    "    class Usuario:\n",
    "      def __init__(self, usuario, contraseña, nombre):\n",
    "        self.usuario = usuario\n",
    "        self.contraseña = contraseña\n",
    "        self.nombe = nombre\n",
    "\n",
    "      def Login(Usuario, Contraseña):\n",
    "        if Usuario in Usuarios and constraseña in contraseña:\n",
    "          print(\"Inicio Sesion de manera exitosa\") \n",
    "        else:\n",
    "          print(\"El usuario o la contraseña son incorrectos\")\n",
    "    class Admin(Usuario):\n",
    "      \n",
    "      def AgregarQuimico(Quimico):\n",
    "        pass\n",
    "      def EditarQuimico(Nombre, tipo):\n",
    "        pass\n",
    "\n",
    "    class Cliente(Usuario):\n",
    "      \n",
    "      def RealizarPedido():\n",
    "        pass\n",
    "   ```"
   ]
  }
 ],
 "metadata": {
  "kernelspec": {
   "display_name": "Python 3.10.4 64-bit",
   "language": "python",
   "name": "python3"
  },
  "language_info": {
   "codemirror_mode": {
    "name": "ipython",
    "version": 3
   },
   "file_extension": ".py",
   "mimetype": "text/x-python",
   "name": "python",
   "nbconvert_exporter": "python",
   "pygments_lexer": "ipython3",
   "version": "3.10.13"
  },
  "vscode": {
   "interpreter": {
    "hash": "3ad933181bd8a04b432d3370b9dc3b0662ad032c4dfaa4e4f1596c548f763858"
   }
  }
 },
 "nbformat": 4,
 "nbformat_minor": 4
}
