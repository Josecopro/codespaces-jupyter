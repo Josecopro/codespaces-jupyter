{
 "cells": [
  {
   "cell_type": "markdown",
   "metadata": {},
   "source": [
    "Sure! Here's a quick resume about data structures:\n",
    "\n",
    "- Arrays: Arrays are a collection of elements of the same data type. They have a fixed size and are stored in contiguous memory locations. Arrays provide fast access to elements using their index. However, the size of an array is fixed and cannot be changed dynamically.\n",
    "\n",
    "- Lists: Lists are similar to arrays but have a more flexible structure. They can store elements of different data types and can grow or shrink dynamically. Lists in Python are implemented as dynamic arrays, allowing efficient insertion and deletion of elements. Elements in a list can be accessed using their index.\n",
    "\n",
    "- Dictionaries: Dictionaries are unordered collections of key-value pairs. Each element in a dictionary is identified by a unique key, which is used to access its corresponding value. Dictionaries provide fast access to values based on their keys. They are commonly used for mapping and storing data in a structured manner.\n",
    "\n",
    "- Tuples: Tuples are similar to lists but have a fixed size and are immutable, meaning their elements cannot be modified once defined. Tuples are commonly used to store related pieces of data together. They can be accessed using their index and support various operations like slicing and unpacking.\n",
    "\n",
    "These data structures play a crucial role in organizing and manipulating data in various programming languages. Understanding their characteristics and appropriate use cases can greatly enhance your ability to work with data effectively."
   ]
  },
  {
   "cell_type": "markdown",
   "metadata": {},
   "source": [
    "Made changes."
   ]
  },
  {
   "cell_type": "code",
   "execution_count": 4,
   "metadata": {},
   "outputs": [
    {
     "name": "stdout",
     "output_type": "stream",
     "text": [
      "Queso\n"
     ]
    }
   ],
   "source": [
    "ola = False\n",
    "if(ola):\n",
    "    print(\"ola\")\n",
    "else:\n",
    "    print(\"Queso\")"
   ]
  },
  {
   "cell_type": "markdown",
   "metadata": {},
   "source": [
    "#Clases \n",
    "> Las clases son la estructura que se utiliza para la programacion orientada a objetos, esta en python se define como **\"Class\"** y su inicializacion se hace con una funcion llamada **\"__init__\"**, su estructura basica seria:\n",
    "\n",
    "```python\n",
    "class Persona:\n",
    "    def __init__(self, nombre, edad, estatura):\n",
    "        self.nombre = nombre\n",
    "        self.edad = edad\n",
    "        self.estatura = estatura\n",
    "    \n",
    "```"
   ]
  }
 ],
 "metadata": {
  "kernelspec": {
   "display_name": "Python 3.10.4 64-bit",
   "language": "python",
   "name": "python3"
  },
  "language_info": {
   "codemirror_mode": {
    "name": "ipython",
    "version": 3
   },
   "file_extension": ".py",
   "mimetype": "text/x-python",
   "name": "python",
   "nbconvert_exporter": "python",
   "pygments_lexer": "ipython3",
   "version": "3.10.13"
  },
  "vscode": {
   "interpreter": {
    "hash": "3ad933181bd8a04b432d3370b9dc3b0662ad032c4dfaa4e4f1596c548f763858"
   }
  }
 },
 "nbformat": 4,
 "nbformat_minor": 4
}
